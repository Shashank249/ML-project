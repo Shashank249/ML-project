{
 "cells": [
  {
   "cell_type": "code",
   "execution_count": 7,
   "metadata": {},
   "outputs": [],
   "source": [
    "from sklearn.model_selection import cross_val_score, train_test_split, GridSearchCV\n",
    "from sklearn.svm import SVR\n",
    "from sklearn.linear_model import LinearRegression as LR\n",
    "import pandas as pd\n",
    "import numpy as np\n",
    "import matplotlib.pyplot as plt"
   ]
  },
  {
   "cell_type": "code",
   "execution_count": 9,
   "metadata": {},
   "outputs": [
    {
     "name": "stdout",
     "output_type": "stream",
     "text": [
      "(150, 12)\n"
     ]
    },
    {
     "data": {
      "text/html": [
       "<div>\n",
       "<style scoped>\n",
       "    .dataframe tbody tr th:only-of-type {\n",
       "        vertical-align: middle;\n",
       "    }\n",
       "\n",
       "    .dataframe tbody tr th {\n",
       "        vertical-align: top;\n",
       "    }\n",
       "\n",
       "    .dataframe thead th {\n",
       "        text-align: right;\n",
       "    }\n",
       "</style>\n",
       "<table border=\"1\" class=\"dataframe\">\n",
       "  <thead>\n",
       "    <tr style=\"text-align: right;\">\n",
       "      <th></th>\n",
       "      <th>index</th>\n",
       "      <th>compounds</th>\n",
       "      <th>rA (A)</th>\n",
       "      <th>rB (A)</th>\n",
       "      <th>rX (A)</th>\n",
       "      <th>vA</th>\n",
       "      <th>vB</th>\n",
       "      <th>vX</th>\n",
       "      <th>eA</th>\n",
       "      <th>eB</th>\n",
       "      <th>eX</th>\n",
       "      <th>a (A)</th>\n",
       "    </tr>\n",
       "  </thead>\n",
       "  <tbody>\n",
       "    <tr>\n",
       "      <th>0</th>\n",
       "      <td>1</td>\n",
       "      <td>BaAmO 3</td>\n",
       "      <td>1.35</td>\n",
       "      <td>0.85</td>\n",
       "      <td>1.4</td>\n",
       "      <td>2</td>\n",
       "      <td>4</td>\n",
       "      <td>-2</td>\n",
       "      <td>0.89</td>\n",
       "      <td>1.30</td>\n",
       "      <td>3.44</td>\n",
       "      <td>4.357</td>\n",
       "    </tr>\n",
       "    <tr>\n",
       "      <th>1</th>\n",
       "      <td>2</td>\n",
       "      <td>BaCeO 3</td>\n",
       "      <td>1.35</td>\n",
       "      <td>0.87</td>\n",
       "      <td>1.4</td>\n",
       "      <td>2</td>\n",
       "      <td>4</td>\n",
       "      <td>-2</td>\n",
       "      <td>0.89</td>\n",
       "      <td>1.12</td>\n",
       "      <td>3.44</td>\n",
       "      <td>4.397</td>\n",
       "    </tr>\n",
       "    <tr>\n",
       "      <th>2</th>\n",
       "      <td>3</td>\n",
       "      <td>BaFeO3</td>\n",
       "      <td>1.35</td>\n",
       "      <td>0.59</td>\n",
       "      <td>1.4</td>\n",
       "      <td>2</td>\n",
       "      <td>4</td>\n",
       "      <td>-2</td>\n",
       "      <td>0.89</td>\n",
       "      <td>1.83</td>\n",
       "      <td>3.44</td>\n",
       "      <td>3.994</td>\n",
       "    </tr>\n",
       "    <tr>\n",
       "      <th>3</th>\n",
       "      <td>4</td>\n",
       "      <td>BaHfO 3</td>\n",
       "      <td>1.35</td>\n",
       "      <td>0.71</td>\n",
       "      <td>1.4</td>\n",
       "      <td>2</td>\n",
       "      <td>4</td>\n",
       "      <td>-2</td>\n",
       "      <td>0.89</td>\n",
       "      <td>1.30</td>\n",
       "      <td>3.44</td>\n",
       "      <td>4.171</td>\n",
       "    </tr>\n",
       "    <tr>\n",
       "      <th>4</th>\n",
       "      <td>5</td>\n",
       "      <td>BaIrO3</td>\n",
       "      <td>1.35</td>\n",
       "      <td>0.63</td>\n",
       "      <td>1.4</td>\n",
       "      <td>2</td>\n",
       "      <td>4</td>\n",
       "      <td>-2</td>\n",
       "      <td>0.89</td>\n",
       "      <td>2.20</td>\n",
       "      <td>3.44</td>\n",
       "      <td>4.100</td>\n",
       "    </tr>\n",
       "    <tr>\n",
       "      <th>5</th>\n",
       "      <td>6</td>\n",
       "      <td>BaMoO3</td>\n",
       "      <td>1.35</td>\n",
       "      <td>0.65</td>\n",
       "      <td>1.4</td>\n",
       "      <td>2</td>\n",
       "      <td>4</td>\n",
       "      <td>-2</td>\n",
       "      <td>0.89</td>\n",
       "      <td>2.16</td>\n",
       "      <td>3.44</td>\n",
       "      <td>4.040</td>\n",
       "    </tr>\n",
       "    <tr>\n",
       "      <th>6</th>\n",
       "      <td>7</td>\n",
       "      <td>BaNbO3</td>\n",
       "      <td>1.35</td>\n",
       "      <td>0.68</td>\n",
       "      <td>1.4</td>\n",
       "      <td>2</td>\n",
       "      <td>4</td>\n",
       "      <td>-2</td>\n",
       "      <td>0.89</td>\n",
       "      <td>1.60</td>\n",
       "      <td>3.44</td>\n",
       "      <td>4.080</td>\n",
       "    </tr>\n",
       "    <tr>\n",
       "      <th>7</th>\n",
       "      <td>8</td>\n",
       "      <td>BaNpO3</td>\n",
       "      <td>1.35</td>\n",
       "      <td>0.87</td>\n",
       "      <td>1.4</td>\n",
       "      <td>2</td>\n",
       "      <td>4</td>\n",
       "      <td>-2</td>\n",
       "      <td>0.89</td>\n",
       "      <td>1.36</td>\n",
       "      <td>3.44</td>\n",
       "      <td>4.384</td>\n",
       "    </tr>\n",
       "    <tr>\n",
       "      <th>8</th>\n",
       "      <td>9</td>\n",
       "      <td>BaPaO3</td>\n",
       "      <td>1.35</td>\n",
       "      <td>0.90</td>\n",
       "      <td>1.4</td>\n",
       "      <td>2</td>\n",
       "      <td>4</td>\n",
       "      <td>-2</td>\n",
       "      <td>0.89</td>\n",
       "      <td>1.50</td>\n",
       "      <td>3.44</td>\n",
       "      <td>4.450</td>\n",
       "    </tr>\n",
       "    <tr>\n",
       "      <th>9</th>\n",
       "      <td>10</td>\n",
       "      <td>BaPbO3</td>\n",
       "      <td>1.35</td>\n",
       "      <td>0.78</td>\n",
       "      <td>1.4</td>\n",
       "      <td>2</td>\n",
       "      <td>4</td>\n",
       "      <td>-2</td>\n",
       "      <td>0.89</td>\n",
       "      <td>2.33</td>\n",
       "      <td>3.44</td>\n",
       "      <td>4.265</td>\n",
       "    </tr>\n",
       "  </tbody>\n",
       "</table>\n",
       "</div>"
      ],
      "text/plain": [
       "   index compounds  rA (A)  rB (A)  rX (A)  vA  vB  vX    eA    eB    eX  \\\n",
       "0      1   BaAmO 3    1.35    0.85     1.4   2   4  -2  0.89  1.30  3.44   \n",
       "1      2   BaCeO 3    1.35    0.87     1.4   2   4  -2  0.89  1.12  3.44   \n",
       "2      3    BaFeO3    1.35    0.59     1.4   2   4  -2  0.89  1.83  3.44   \n",
       "3      4   BaHfO 3    1.35    0.71     1.4   2   4  -2  0.89  1.30  3.44   \n",
       "4      5    BaIrO3    1.35    0.63     1.4   2   4  -2  0.89  2.20  3.44   \n",
       "5      6    BaMoO3    1.35    0.65     1.4   2   4  -2  0.89  2.16  3.44   \n",
       "6      7    BaNbO3    1.35    0.68     1.4   2   4  -2  0.89  1.60  3.44   \n",
       "7      8    BaNpO3    1.35    0.87     1.4   2   4  -2  0.89  1.36  3.44   \n",
       "8      9    BaPaO3    1.35    0.90     1.4   2   4  -2  0.89  1.50  3.44   \n",
       "9     10    BaPbO3    1.35    0.78     1.4   2   4  -2  0.89  2.33  3.44   \n",
       "\n",
       "   a (A)  \n",
       "0  4.357  \n",
       "1  4.397  \n",
       "2  3.994  \n",
       "3  4.171  \n",
       "4  4.100  \n",
       "5  4.040  \n",
       "6  4.080  \n",
       "7  4.384  \n",
       "8  4.450  \n",
       "9  4.265  "
      ]
     },
     "execution_count": 9,
     "metadata": {},
     "output_type": "execute_result"
    }
   ],
   "source": [
    "data = pd.read_csv('cubic dataset.csv')\n",
    "x = data.iloc[:,2:11].values\n",
    "y = data.iloc[:,11].values\n",
    "print(np.shape(data))\n",
    "data.head(n=10)"
   ]
  },
  {
   "cell_type": "code",
   "execution_count": 10,
   "metadata": {},
   "outputs": [],
   "source": [
    "x_train, x_test, y_train, y_test = train_test_split(x, y, test_size=0.2)"
   ]
  },
  {
   "cell_type": "code",
   "execution_count": 5,
   "metadata": {},
   "outputs": [
    {
     "name": "stdout",
     "output_type": "stream",
     "text": [
      "Rbf 0.9754180127673381 5 0.01 1\n",
      "Linear 0.9908944874464934 75 0.03\n",
      "0.9899153954826595\n",
      "Rbf 0.967904295718669 5 0.03 1\n",
      "Linear 0.9923243733584503 25 0.01\n",
      "0.9917470159617118\n",
      "Rbf 0.9759142004610574 5 0.049999999999999996 1\n",
      "Linear 0.9914490249174005 50 0.01\n",
      "0.9902024808216284\n",
      "Rbf 0.9726874130354555 25 0.01 1\n",
      "Linear 0.9949563485299467 50 0.01\n",
      "0.9935536578403352\n",
      "Rbf 0.9704723372938104 10 0.03 1\n",
      "Linear 0.9873907100836681 75 0.01\n",
      "0.9859213087612304\n",
      "Rbf 0.9603625880099276 5 0.049999999999999996 1\n",
      "Linear 0.9896948651854884 50 0.03\n",
      "0.9881433661028508\n",
      "Rbf 0.974389326139576 10 0.03 1\n",
      "Linear 0.9880872875193948 50 0.03\n",
      "0.9863750434996789\n",
      "Rbf 0.9712807749912837 5 0.049999999999999996 1\n",
      "Linear 0.9850357736541427 25 0.01\n",
      "0.9838586681706776\n",
      "Rbf 0.9412061441242242 5 0.01 1\n",
      "Linear 0.993521348336931 100 0.01\n",
      "-9.243595218682446e+17\n",
      "Rbf 0.9458268613726946 50 0.01 1\n",
      "Linear 0.9919381514911366 75 0.01\n",
      "0.9910057337807571\n"
     ]
    }
   ],
   "source": [
    "#Finding the maximum cross validation score with corresponding parameter values for two types of kernels. The kernel with\n",
    "#maximum cross validation score is used.\n",
    "\n",
    "rbf = np.zeros(10)\n",
    "linear = np.zeros(10)\n",
    "lr = np.zeros(10)\n",
    "for l in range(10):\n",
    "    x_train, x_test, y_train, y_test = train_test_split(x, y, test_size=0.2)\n",
    "    cvs_svr_linear = np.zeros(10)\n",
    "    cvs_svr_rbf = np.zeros(10)\n",
    "    cvs_linear = np.zeros(10)\n",
    "    r = np.zeros(24)\n",
    "    C = [1, 5, 10, 25, 50, 75, 100]\n",
    "    epsilon = np.arange(0.01, 0.5, 0.02)\n",
    "    gamma = np.arange(1, 25, 1)\n",
    "    ep = np.zeros(len(epsilon))\n",
    "    ep1 = np.zeros(len(C))\n",
    "    r1 = np.zeros(len(gamma))\n",
    "    r2 = np.zeros(len(epsilon))\n",
    "    r3 = np.zeros(len(C))\n",
    "    for i in range(len(C)):\n",
    "        for j in range(len(epsilon)):\n",
    "            for k in range(len(gamma)):\n",
    "                cvs_svr_linear = cross_val_score(SVR(kernel='linear', C= C[i], epsilon= epsilon[j], gamma= gamma[k]), x_train, y_train, cv=5, scoring='r2', n_jobs=-1)\n",
    "                cvs_svr_rbf = cross_val_score(SVR(kernel='rbf', C= C[i], epsilon= epsilon[j], gamma= gamma[k]), x_train, y_train, cv=5, scoring='r2', n_jobs=-1)\n",
    "                cvs_linear = cross_val_score(LR(), x_train, y_train, cv=5, scoring='r2', n_jobs=-1)\n",
    "                r1[k] = np.mean(cvs_svr_rbf)\n",
    "            #print('Rbf',np.max(r1), C[i], epsilon[j], gamma[np.argmax(r1)])\n",
    "            r2[j] = np.max(r1)\n",
    "            ep[j] = np.mean(cvs_svr_linear)\n",
    "            #print('Linear',np.mean(cvs_svr_linear), C[i], epsilon[j])\n",
    "        ep1[i] = np.max(ep)\n",
    "        r3[i] = np.max(r2)\n",
    "    rbf[l]=np.max(r3)\n",
    "    linear[l]=np.max(ep1)\n",
    "    lr[l]=np.mean(cvs_linear)\n",
    "    print('Rbf',np.max(r3), C[np.argmax(r3)], epsilon[np.argmax(r2)], gamma[np.argmax(r1)])\n",
    "    print('Linear',np.max(ep1), C[np.argmax(ep1)], epsilon[np.argmax(ep)])\n",
    "    print(np.mean(cvs_linear))"
   ]
  },
  {
   "cell_type": "code",
   "execution_count": 15,
   "metadata": {},
   "outputs": [
    {
     "data": {
      "image/png": "[encoded data removed]",
      "text/plain": [
       "<Figure size 432x288 with 1 Axes>"
      ]
     },
     "metadata": {
      "needs_background": "light"
     },
     "output_type": "display_data"
    }
   ],
   "source": [
    "#Comparison plot\n",
    "\n",
    "s1 = plt.plot(np.arange(1,9), rbf[:8])\n",
    "s2 = plt.plot(np.arange(1,9), linear[:8])\n",
    "s3 = plt.plot(np.arange(1,9), lr[:8])\n",
    "plt.xlabel('No. of times')\n",
    "plt.ylabel('Cross validation score')\n",
    "plt.legend(('RBF', 'Linear', 'Linear Regression'))\n",
    "plt.show()"
   ]
  },
  {
   "cell_type": "code",
   "execution_count": 16,
   "metadata": {},
   "outputs": [
    {
     "data": {
      "text/plain": [
       "SVR(C=50, epsilon=0.01, kernel='linear')"
      ]
     },
     "execution_count": 16,
     "metadata": {},
     "output_type": "execute_result"
    }
   ],
   "source": [
    "# Then train the model with above paramter\n",
    "f = SVR(kernel='linear', C=50, epsilon=0.01)\n",
    "f.fit(x_train, y_train)"
   ]
  },
  {
   "cell_type": "code",
   "execution_count": 17,
   "metadata": {},
   "outputs": [
    {
     "name": "stdout",
     "output_type": "stream",
     "text": [
      "Mean error is 0.6851400292148443 within range (0.008786309462374145, 7.495318715413474)\n"
     ]
    }
   ],
   "source": [
    "# Find the training error\n",
    "train_err = np.abs(y_train-f.predict(x_train))*100/y_train\n",
    "print(f'Mean error is {np.mean(train_err)} within range ({np.min(train_err)}, {np.max(train_err)})')"
   ]
  },
  {
   "cell_type": "code",
   "execution_count": 18,
   "metadata": {},
   "outputs": [
    {
     "name": "stdout",
     "output_type": "stream",
     "text": [
      "Mean error is 0.5245524992988088 within range (0.015807022598118635, 1.780568107451927)\n"
     ]
    }
   ],
   "source": [
    "# Do prediction and find the testing error\n",
    "test_err = np.abs(y_test-f.predict(x_test))*100/y_test\n",
    "print(f'Mean error is {np.mean(test_err)} within range ({np.min(test_err)}, {np.max(test_err)})')"
   ]
  },
  {
   "cell_type": "code",
   "execution_count": 21,
   "metadata": {},
   "outputs": [
    {
     "data": {
      "image/png": "[encoded data removed]",
      "text/plain": [
       "<Figure size 432x288 with 1 Axes>"
      ]
     },
     "metadata": {
      "needs_background": "light"
     },
     "output_type": "display_data"
    },
    {
     "data": {
      "image/png": "[encoded data removed]",
      "text/plain": [
       "<Figure size 432x288 with 1 Axes>"
      ]
     },
     "metadata": {
      "needs_background": "light"
     },
     "output_type": "display_data"
    },
    {
     "data": {
      "image/png": "[encoded data removed]",
      "text/plain": [
       "<Figure size 432x288 with 1 Axes>"
      ]
     },
     "metadata": {
      "needs_background": "light"
     },
     "output_type": "display_data"
    }
   ],
   "source": [
    "# Plot some graphs to visualize our prediction\n",
    "s1 = plt.scatter(x_test[:,0], y_test)\n",
    "s2 = plt.scatter(x_test[:,0], f.predict(x_test))\n",
    "plt.legend((s1, s2),('Actual','Predicted'))\n",
    "plt.xlabel('Ionic radii of A')\n",
    "plt.ylabel('Lattice constant a')\n",
    "plt.show()\n",
    "s3 = plt.scatter(x_test[:,1], y_test)\n",
    "s4 = plt.scatter(x_test[:,1], f.predict(x_test))\n",
    "plt.legend((s3, s4),('Actual','Predicted'))\n",
    "plt.xlabel('Ionic radii of B')\n",
    "plt.ylabel('Lattice constant a')\n",
    "plt.show()\n",
    "s5 = plt.scatter(x_test[:,2], y_test)\n",
    "s6 = plt.scatter(x_test[:,2], f.predict(x_test))\n",
    "plt.legend((s3, s4),('Actual','Predicted'))\n",
    "plt.xlabel('Ionic radii of X')\n",
    "plt.ylabel('Lattice constant a')\n",
    "plt.show()"
   ]
  },
  {
   "cell_type": "code",
   "execution_count": null,
   "metadata": {},
   "outputs": [],
   "source": []
  }
 ],
 "metadata": {
  "kernelspec": {
   "display_name": "Python 3",
   "language": "python",
   "name": "python3"
  },
  "language_info": {
   "codemirror_mode": {
    "name": "ipython",
    "version": 3
   },
   "file_extension": ".py",
   "mimetype": "text/x-python",
   "name": "python",
   "nbconvert_exporter": "python",
   "pygments_lexer": "ipython3",
   "version": "3.8.3"
  }
 },
 "nbformat": 4,
 "nbformat_minor": 4
}
