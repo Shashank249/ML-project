{
 "cells": [
  {
   "cell_type": "code",
   "execution_count": 1,
   "metadata": {},
   "outputs": [],
   "source": [
    "import numpy as np\n",
    "import matplotlib.pyplot as plt\n",
    "import pandas as pd\n",
    "from sklearn.preprocessing import StandardScaler\n",
    "from sklearn.model_selection import train_test_split, GridSearchCV\n",
    "from sklearn.svm import SVR"
   ]
  },
  {
   "cell_type": "code",
   "execution_count": 2,
   "metadata": {},
   "outputs": [
    {
     "data": {
      "text/html": [
       "<div>\n",
       "<style scoped>\n",
       "    .dataframe tbody tr th:only-of-type {\n",
       "        vertical-align: middle;\n",
       "    }\n",
       "\n",
       "    .dataframe tbody tr th {\n",
       "        vertical-align: top;\n",
       "    }\n",
       "\n",
       "    .dataframe thead th {\n",
       "        text-align: right;\n",
       "    }\n",
       "</style>\n",
       "<table border=\"1\" class=\"dataframe\">\n",
       "  <thead>\n",
       "    <tr style=\"text-align: right;\">\n",
       "      <th></th>\n",
       "      <th>Solids</th>\n",
       "      <th>rA</th>\n",
       "      <th>rB</th>\n",
       "      <th>rX</th>\n",
       "      <th>vA</th>\n",
       "      <th>vB</th>\n",
       "      <th>vX</th>\n",
       "      <th>EA</th>\n",
       "      <th>EB</th>\n",
       "      <th>EX</th>\n",
       "      <th>a</th>\n",
       "      <th>b</th>\n",
       "      <th>c</th>\n",
       "    </tr>\n",
       "  </thead>\n",
       "  <tbody>\n",
       "    <tr>\n",
       "      <th>0</th>\n",
       "      <td>NaUO3</td>\n",
       "      <td>1.02</td>\n",
       "      <td>0.760</td>\n",
       "      <td>1.35</td>\n",
       "      <td>1</td>\n",
       "      <td>5</td>\n",
       "      <td>-2</td>\n",
       "      <td>0.93</td>\n",
       "      <td>1.38</td>\n",
       "      <td>3.44</td>\n",
       "      <td>5.775</td>\n",
       "      <td>5.905</td>\n",
       "      <td>8.250</td>\n",
       "    </tr>\n",
       "    <tr>\n",
       "      <th>1</th>\n",
       "      <td>NaTaO3</td>\n",
       "      <td>1.02</td>\n",
       "      <td>0.640</td>\n",
       "      <td>1.35</td>\n",
       "      <td>1</td>\n",
       "      <td>5</td>\n",
       "      <td>-2</td>\n",
       "      <td>0.93</td>\n",
       "      <td>1.50</td>\n",
       "      <td>3.44</td>\n",
       "      <td>5.494</td>\n",
       "      <td>5.513</td>\n",
       "      <td>7.751</td>\n",
       "    </tr>\n",
       "    <tr>\n",
       "      <th>2</th>\n",
       "      <td>NaNbO3</td>\n",
       "      <td>1.02</td>\n",
       "      <td>0.640</td>\n",
       "      <td>1.35</td>\n",
       "      <td>1</td>\n",
       "      <td>5</td>\n",
       "      <td>-2</td>\n",
       "      <td>0.93</td>\n",
       "      <td>1.60</td>\n",
       "      <td>3.44</td>\n",
       "      <td>5.510</td>\n",
       "      <td>5.570</td>\n",
       "      <td>7.770</td>\n",
       "    </tr>\n",
       "    <tr>\n",
       "      <th>3</th>\n",
       "      <td>NaPaO3</td>\n",
       "      <td>1.02</td>\n",
       "      <td>0.780</td>\n",
       "      <td>1.35</td>\n",
       "      <td>1</td>\n",
       "      <td>5</td>\n",
       "      <td>-2</td>\n",
       "      <td>0.93</td>\n",
       "      <td>1.50</td>\n",
       "      <td>3.44</td>\n",
       "      <td>5.820</td>\n",
       "      <td>5.920</td>\n",
       "      <td>8.360</td>\n",
       "    </tr>\n",
       "    <tr>\n",
       "      <th>4</th>\n",
       "      <td>CaMnO3</td>\n",
       "      <td>1.00</td>\n",
       "      <td>0.530</td>\n",
       "      <td>1.35</td>\n",
       "      <td>2</td>\n",
       "      <td>4</td>\n",
       "      <td>-2</td>\n",
       "      <td>1.00</td>\n",
       "      <td>1.55</td>\n",
       "      <td>3.44</td>\n",
       "      <td>5.270</td>\n",
       "      <td>5.275</td>\n",
       "      <td>7.464</td>\n",
       "    </tr>\n",
       "    <tr>\n",
       "      <th>5</th>\n",
       "      <td>CaCrO3</td>\n",
       "      <td>1.00</td>\n",
       "      <td>0.550</td>\n",
       "      <td>1.35</td>\n",
       "      <td>2</td>\n",
       "      <td>4</td>\n",
       "      <td>-2</td>\n",
       "      <td>1.00</td>\n",
       "      <td>1.66</td>\n",
       "      <td>3.44</td>\n",
       "      <td>5.287</td>\n",
       "      <td>5.316</td>\n",
       "      <td>7.486</td>\n",
       "    </tr>\n",
       "    <tr>\n",
       "      <th>6</th>\n",
       "      <td>CaVO3</td>\n",
       "      <td>1.00</td>\n",
       "      <td>0.580</td>\n",
       "      <td>1.35</td>\n",
       "      <td>2</td>\n",
       "      <td>4</td>\n",
       "      <td>-2</td>\n",
       "      <td>1.00</td>\n",
       "      <td>1.63</td>\n",
       "      <td>3.44</td>\n",
       "      <td>5.326</td>\n",
       "      <td>5.352</td>\n",
       "      <td>7.547</td>\n",
       "    </tr>\n",
       "    <tr>\n",
       "      <th>7</th>\n",
       "      <td>CaTiO3</td>\n",
       "      <td>1.00</td>\n",
       "      <td>0.605</td>\n",
       "      <td>1.35</td>\n",
       "      <td>2</td>\n",
       "      <td>4</td>\n",
       "      <td>-2</td>\n",
       "      <td>1.00</td>\n",
       "      <td>1.54</td>\n",
       "      <td>3.44</td>\n",
       "      <td>5.381</td>\n",
       "      <td>5.443</td>\n",
       "      <td>7.645</td>\n",
       "    </tr>\n",
       "    <tr>\n",
       "      <th>8</th>\n",
       "      <td>CaRuO3</td>\n",
       "      <td>1.00</td>\n",
       "      <td>0.620</td>\n",
       "      <td>1.35</td>\n",
       "      <td>2</td>\n",
       "      <td>4</td>\n",
       "      <td>-2</td>\n",
       "      <td>1.00</td>\n",
       "      <td>2.20</td>\n",
       "      <td>3.44</td>\n",
       "      <td>5.360</td>\n",
       "      <td>5.530</td>\n",
       "      <td>7.670</td>\n",
       "    </tr>\n",
       "    <tr>\n",
       "      <th>9</th>\n",
       "      <td>CaMoO3</td>\n",
       "      <td>1.00</td>\n",
       "      <td>0.650</td>\n",
       "      <td>1.35</td>\n",
       "      <td>2</td>\n",
       "      <td>4</td>\n",
       "      <td>-2</td>\n",
       "      <td>1.00</td>\n",
       "      <td>2.16</td>\n",
       "      <td>3.44</td>\n",
       "      <td>5.450</td>\n",
       "      <td>5.580</td>\n",
       "      <td>7.800</td>\n",
       "    </tr>\n",
       "  </tbody>\n",
       "</table>\n",
       "</div>"
      ],
      "text/plain": [
       "   Solids    rA     rB    rX  vA  vB  vX    EA    EB    EX      a      b  \\\n",
       "0   NaUO3  1.02  0.760  1.35   1   5  -2  0.93  1.38  3.44  5.775  5.905   \n",
       "1  NaTaO3  1.02  0.640  1.35   1   5  -2  0.93  1.50  3.44  5.494  5.513   \n",
       "2  NaNbO3  1.02  0.640  1.35   1   5  -2  0.93  1.60  3.44  5.510  5.570   \n",
       "3  NaPaO3  1.02  0.780  1.35   1   5  -2  0.93  1.50  3.44  5.820  5.920   \n",
       "4  CaMnO3  1.00  0.530  1.35   2   4  -2  1.00  1.55  3.44  5.270  5.275   \n",
       "5  CaCrO3  1.00  0.550  1.35   2   4  -2  1.00  1.66  3.44  5.287  5.316   \n",
       "6   CaVO3  1.00  0.580  1.35   2   4  -2  1.00  1.63  3.44  5.326  5.352   \n",
       "7  CaTiO3  1.00  0.605  1.35   2   4  -2  1.00  1.54  3.44  5.381  5.443   \n",
       "8  CaRuO3  1.00  0.620  1.35   2   4  -2  1.00  2.20  3.44  5.360  5.530   \n",
       "9  CaMoO3  1.00  0.650  1.35   2   4  -2  1.00  2.16  3.44  5.450  5.580   \n",
       "\n",
       "       c  \n",
       "0  8.250  \n",
       "1  7.751  \n",
       "2  7.770  \n",
       "3  8.360  \n",
       "4  7.464  \n",
       "5  7.486  \n",
       "6  7.547  \n",
       "7  7.645  \n",
       "8  7.670  \n",
       "9  7.800  "
      ]
     },
     "execution_count": 2,
     "metadata": {},
     "output_type": "execute_result"
    }
   ],
   "source": [
    "dataset = pd.read_csv(\"orthorhombic_dataset.csv\")\n",
    "dataset.head(n=10)"
   ]
  },
  {
   "cell_type": "code",
   "execution_count": 3,
   "metadata": {},
   "outputs": [],
   "source": [
    "x = dataset.iloc[:,1:10].values\n",
    "y = dataset.iloc[:,10:].values"
   ]
  },
  {
   "cell_type": "code",
   "execution_count": 4,
   "metadata": {},
   "outputs": [],
   "source": [
    "x_train, x_test, y_train, y_test = train_test_split(x, y, test_size=0.2)"
   ]
  },
  {
   "cell_type": "code",
   "execution_count": 5,
   "metadata": {},
   "outputs": [],
   "source": [
    "grid_para={'C':[0.01, 0.1, 1, 5, 10, 50, 100, 150, 200], 'epsilon':np.arange(0.05, 1, 0.05), 'gamma':np.arange(0, 10, 0.25)}"
   ]
  },
  {
   "cell_type": "code",
   "execution_count": 7,
   "metadata": {},
   "outputs": [
    {
     "name": "stdout",
     "output_type": "stream",
     "text": [
      "Best scores for 2 fold cv is 0.9392325973819466 with corresponding parameter values as {'C': 50, 'epsilon': 0.05, 'gamma': 0.25}\n",
      "Best scores for 3 fold cv is 0.942180497226789 with corresponding parameter values as {'C': 50, 'epsilon': 0.05, 'gamma': 0.25}\n",
      "Best scores for 4 fold cv is 0.9461128527802725 with corresponding parameter values as {'C': 50, 'epsilon': 0.05, 'gamma': 0.25}\n",
      "Best scores for 5 fold cv is 0.9541766183686576 with corresponding parameter values as {'C': 50, 'epsilon': 0.05, 'gamma': 0.25}\n",
      "Best scores for 6 fold cv is 0.9511709764842262 with corresponding parameter values as {'C': 50, 'epsilon': 0.05, 'gamma': 0.25}\n",
      "Best scores for 7 fold cv is 0.9501959881796225 with corresponding parameter values as {'C': 50, 'epsilon': 0.05, 'gamma': 0.25}\n",
      "Best scores for 8 fold cv is 0.9357490237978818 with corresponding parameter values as {'C': 50, 'epsilon': 0.05, 'gamma': 0.25}\n",
      "Best scores for 9 fold cv is 0.9388758863170401 with corresponding parameter values as {'C': 50, 'epsilon': 0.05, 'gamma': 0.25}\n"
     ]
    }
   ],
   "source": [
    "#########################################             for a           ##############################################\n",
    "\n",
    "#GridSearchCV\n",
    "a1 = np.zeros(8)\n",
    "for i in range(2, 10):\n",
    "    #x_train, x_test, y_train, y_test = train_test_split(x, y, test_size=0.2)\n",
    "    gd_sr = GridSearchCV(SVR(kernel = 'rbf'), param_grid = grid_para, scoring='r2', n_jobs=-1, cv=i)\n",
    "    gd_sr.fit(x_train, y_train[:,0])\n",
    "    best_para1 = gd_sr.best_params_\n",
    "    best_result1 = gd_sr.best_score_\n",
    "    a1[i-2] = best_result1\n",
    "    #print(\"No. of folds: \",i)\n",
    "    #print(\"Best parameter value: \",best_para1)\n",
    "    #print(\"Best score for a:\",best_result1)\n",
    "    print(f'Best scores for {i} fold cv is {best_result1} with corresponding parameter values as {best_para1}')"
   ]
  },
  {
   "cell_type": "code",
   "execution_count": 8,
   "metadata": {},
   "outputs": [
    {
     "data": {
      "image/png": "[encoded data removed]",
      "text/plain": [
       "<Figure size 432x288 with 1 Axes>"
      ]
     },
     "metadata": {
      "needs_background": "light"
     },
     "output_type": "display_data"
    }
   ],
   "source": [
    "#print(a1)\n",
    "plt.plot(np.arange(2,10,1), a1)\n",
    "plt.title(\"Cross Validation vs accuracy score for 'a'\")\n",
    "plt.xlabel(\"No. of folds\")\n",
    "plt.ylabel(\"Accuracy score\")\n",
    "plt.show()"
   ]
  },
  {
   "cell_type": "code",
   "execution_count": 9,
   "metadata": {},
   "outputs": [
    {
     "name": "stdout",
     "output_type": "stream",
     "text": [
      "Best scores for 2 fold cv is 0.7915159160082854 with corresponding parameter values as {'C': 50, 'epsilon': 0.05, 'gamma': 0.25}\n",
      "Best scores for 3 fold cv is 0.8000323225125733 with corresponding parameter values as {'C': 10, 'epsilon': 0.05, 'gamma': 0.25}\n",
      "Best scores for 4 fold cv is 0.792401306088506 with corresponding parameter values as {'C': 100, 'epsilon': 0.05, 'gamma': 0.25}\n",
      "Best scores for 5 fold cv is 0.7892002553128032 with corresponding parameter values as {'C': 10, 'epsilon': 0.05, 'gamma': 1.5}\n",
      "Best scores for 6 fold cv is 0.7393220041808987 with corresponding parameter values as {'C': 10, 'epsilon': 0.05, 'gamma': 0.75}\n",
      "Best scores for 7 fold cv is 0.7503866237858885 with corresponding parameter values as {'C': 10, 'epsilon': 0.05, 'gamma': 1.0}\n",
      "Best scores for 8 fold cv is 0.6978681491247964 with corresponding parameter values as {'C': 200, 'epsilon': 0.05, 'gamma': 9.75}\n",
      "Best scores for 9 fold cv is 0.7480794198415921 with corresponding parameter values as {'C': 150, 'epsilon': 0.05, 'gamma': 0.25}\n"
     ]
    }
   ],
   "source": [
    "a2 = np.zeros(8)\n",
    "for i in range(2, 10):\n",
    "    #x_train, x_test, y_train, y_test = train_test_split(x, y, test_size=0.2)\n",
    "    gd_sr = GridSearchCV(SVR(kernel = 'rbf'), param_grid = grid_para, scoring='r2', n_jobs=-1, cv=i)\n",
    "    gd_sr.fit(x_train, y_train[:,1])\n",
    "    best_para2 = gd_sr.best_params_\n",
    "    best_result2 = gd_sr.best_score_\n",
    "    a2[i-2] = best_result2\n",
    "    #print(\"No. of folds: \",i)\n",
    "    #print(\"Best parameter value: \",best_para2)\n",
    "    #print(\"Best score for a:\",best_result2)\n",
    "    print(f'Best scores for {i} fold cv is {best_result2} with corresponding parameter values as {best_para2}')"
   ]
  },
  {
   "cell_type": "code",
   "execution_count": 10,
   "metadata": {},
   "outputs": [
    {
     "data": {
      "image/png": "[encoded data removed]",
      "text/plain": [
       "<Figure size 432x288 with 1 Axes>"
      ]
     },
     "metadata": {
      "needs_background": "light"
     },
     "output_type": "display_data"
    }
   ],
   "source": [
    "#print(a1)\n",
    "plt.plot(np.arange(2,10,1), a2)\n",
    "plt.title(\"Cross Validation vs accuracy score for 'b'\")\n",
    "plt.xlabel(\"No. of folds\")\n",
    "plt.ylabel(\"Accuracy score\")\n",
    "plt.show()"
   ]
  },
  {
   "cell_type": "code",
   "execution_count": 11,
   "metadata": {},
   "outputs": [
    {
     "name": "stdout",
     "output_type": "stream",
     "text": [
      "Best scores for 2 fold cv is 0.9218601618078848 with corresponding parameter values as {'C': 100, 'epsilon': 0.05, 'gamma': 0.25}\n",
      "Best scores for 3 fold cv is 0.9276492259837822 with corresponding parameter values as {'C': 100, 'epsilon': 0.05, 'gamma': 0.25}\n",
      "Best scores for 4 fold cv is 0.9074120945633385 with corresponding parameter values as {'C': 50, 'epsilon': 0.05, 'gamma': 0.25}\n",
      "Best scores for 5 fold cv is 0.9318801495552229 with corresponding parameter values as {'C': 100, 'epsilon': 0.05, 'gamma': 6.0}\n",
      "Best scores for 6 fold cv is 0.9038078035416969 with corresponding parameter values as {'C': 50, 'epsilon': 0.05, 'gamma': 0.5}\n",
      "Best scores for 7 fold cv is 0.9159363732480867 with corresponding parameter values as {'C': 100, 'epsilon': 0.05, 'gamma': 0.5}\n",
      "Best scores for 8 fold cv is 0.8740659510294311 with corresponding parameter values as {'C': 50, 'epsilon': 0.05, 'gamma': 0.75}\n",
      "Best scores for 9 fold cv is 0.8911022027805718 with corresponding parameter values as {'C': 100, 'epsilon': 0.05, 'gamma': 0.5}\n"
     ]
    }
   ],
   "source": [
    "a3 = np.zeros(8)\n",
    "for i in range(2, 10):\n",
    "    #x_train, x_test, y_train, y_test = train_test_split(x, y, test_size=0.2)\n",
    "    gd_sr = GridSearchCV(SVR(kernel = 'rbf'), param_grid = grid_para, scoring='r2', n_jobs=-1, cv=i)\n",
    "    gd_sr.fit(x_train, y_train[:,2])\n",
    "    best_para3 = gd_sr.best_params_\n",
    "    best_result3 = gd_sr.best_score_\n",
    "    a3[i-2] = best_result3\n",
    "    #print(\"No. of folds: \",i)\n",
    "    #print(\"Best parameter value: \",best_para3)\n",
    "    #print(\"Best score for a:\",best_result3)\n",
    "    print(f'Best scores for {i} fold cv is {best_result3} with corresponding parameter values as {best_para3}')"
   ]
  },
  {
   "cell_type": "code",
   "execution_count": 12,
   "metadata": {},
   "outputs": [
    {
     "data": {
      "image/png": "[encoded data removed]",
      "text/plain": [
       "<Figure size 432x288 with 1 Axes>"
      ]
     },
     "metadata": {
      "needs_background": "light"
     },
     "output_type": "display_data"
    }
   ],
   "source": [
    "#print(a1)\n",
    "plt.plot(np.arange(2,10,1), a3)\n",
    "plt.title(\"Cross Validation vs accuracy score for 'c'\")\n",
    "plt.xlabel(\"No. of folds\")\n",
    "plt.ylabel(\"Accuracy score\")\n",
    "plt.show()"
   ]
  },
  {
   "cell_type": "code",
   "execution_count": 13,
   "metadata": {},
   "outputs": [
    {
     "name": "stdout",
     "output_type": "stream",
     "text": [
      "0.9447118050670545\n",
      "0.7636007496069179\n",
      "0.909214245313752\n"
     ]
    }
   ],
   "source": [
    "print(np.mean(a1))\n",
    "print(np.mean(a2))\n",
    "print(np.mean(a3))"
   ]
  },
  {
   "cell_type": "code",
   "execution_count": 14,
   "metadata": {},
   "outputs": [
    {
     "name": "stdout",
     "output_type": "stream",
     "text": [
      "Training data error : 0.4246225534347573\n"
     ]
    }
   ],
   "source": [
    "#With maximum accuracy score and corresponding parameter value\n",
    "\n",
    "reg1 = SVR(kernel='rbf', C=50, epsilon=0.05, gamma=0.25)\n",
    "f1 = reg1.fit(x_train,y_train[:,0])\n",
    "ypred1 = f1.predict(x_test)\n",
    "#print(np.shape(f1.predict(x_train)))\n",
    "print(\"Training data error :\", np.mean(np.abs(y_train[:,0]-f1.predict(x_train))*100/y_train[:,0]))"
   ]
  },
  {
   "cell_type": "code",
   "execution_count": 15,
   "metadata": {},
   "outputs": [
    {
     "name": "stdout",
     "output_type": "stream",
     "text": [
      "Training data error : 0.4246225534347573\n"
     ]
    }
   ],
   "source": [
    "#with mean accuracy and mean parameter value\n",
    "\n",
    "reg1 = SVR(kernel='rbf', C=50, epsilon=0.05, gamma=0.25)\n",
    "f1 = reg1.fit(x_train,y_train[:,0])\n",
    "ypred1 = f1.predict(x_test)\n",
    "#print(np.shape(f1.predict(x_train)))\n",
    "print(\"Training data error :\", np.mean(np.abs(y_train[:,0]-f1.predict(x_train))*100/y_train[:,0]))"
   ]
  },
  {
   "cell_type": "code",
   "execution_count": 16,
   "metadata": {},
   "outputs": [
    {
     "name": "stdout",
     "output_type": "stream",
     "text": [
      "Training data error : 0.8776207104521161\n"
     ]
    }
   ],
   "source": [
    "#With maximum accuracy score and corresponding parameter value\n",
    "\n",
    "\n",
    "reg2 = SVR(kernel='rbf', C=10, epsilon=0.05, gamma=0.25)\n",
    "f2 = reg2.fit(x_train,y_train[:,1])\n",
    "ypred2 = f2.predict(x_test)\n",
    "print(\"Training data error :\", np.mean(np.abs(y_train[:,1]-f2.predict(x_train))*100/y_train[:,1]))"
   ]
  },
  {
   "cell_type": "code",
   "execution_count": 17,
   "metadata": {},
   "outputs": [
    {
     "name": "stdout",
     "output_type": "stream",
     "text": [
      "Training data error : 0.8069595549260664\n"
     ]
    }
   ],
   "source": [
    "#with mean accuracy and mean parameter value\n",
    "\n",
    "reg2 = SVR(kernel='rbf', C=67.5, epsilon=0.05, gamma=1.75)\n",
    "f2 = reg2.fit(x_train,y_train[:,1])\n",
    "ypred2 = f2.predict(x_test)\n",
    "print(\"Training data error :\", np.mean(np.abs(y_train[:,1]-f2.predict(x_train))*100/y_train[:,1]))"
   ]
  },
  {
   "cell_type": "code",
   "execution_count": 18,
   "metadata": {},
   "outputs": [
    {
     "name": "stdout",
     "output_type": "stream",
     "text": [
      "Training data error : 0.47253920172455055\n"
     ]
    }
   ],
   "source": [
    "#With maximum accuracy score and corresponding parameter value\n",
    "\n",
    "\n",
    "reg3 = SVR(kernel='rbf', C=100, epsilon=0.05, gamma=6.0)\n",
    "f3 = reg3.fit(x_train,y_train[:,2])\n",
    "ypred3 = f3.predict(x_test)\n",
    "print(\"Training data error :\", np.mean(np.abs(y_train[:,2]-f3.predict(x_train))*100/y_train[:,2]))"
   ]
  },
  {
   "cell_type": "code",
   "execution_count": 19,
   "metadata": {},
   "outputs": [
    {
     "name": "stdout",
     "output_type": "stream",
     "text": [
      "Training data error : 0.5527236939907271\n"
     ]
    }
   ],
   "source": [
    "#with mean accuracy and mean parameter value\n",
    "\n",
    "reg3 = SVR(kernel='rbf', C=81.25, epsilon=0.05, gamma=1.125)\n",
    "f3 = reg3.fit(x_train,y_train[:,2])\n",
    "ypred3 = f3.predict(x_test)\n",
    "print(\"Training data error :\", np.mean(np.abs(y_train[:,2]-f3.predict(x_train))*100/y_train[:,2]))"
   ]
  },
  {
   "cell_type": "code",
   "execution_count": 20,
   "metadata": {},
   "outputs": [],
   "source": [
    "#ypred = np.hstack((np.hstack((ypred1.reshape(-1,1), ypred2.reshape(-1,1))), ypred3.reshape(-1,1)))\n",
    "ypred = np.hstack((ypred1.reshape(-1,1), ypred2.reshape(-1,1), ypred3.reshape(-1,1)))\n",
    "#print(ypred)"
   ]
  },
  {
   "cell_type": "code",
   "execution_count": 21,
   "metadata": {},
   "outputs": [
    {
     "name": "stdout",
     "output_type": "stream",
     "text": [
      "Testing data error in a: 0.36093508356506926\n",
      "Testing data error in b: 0.9053884792550415\n",
      "Testing data error in c: 0.7109876059105141\n"
     ]
    }
   ],
   "source": [
    "error = abs((y_test-ypred)*100/y_test)\n",
    "print(\"Testing data error in a:\", np.mean(error[:,0]))\n",
    "print(\"Testing data error in b:\", np.mean(error[:,1]))\n",
    "print(\"Testing data error in c:\", np.mean(error[:,2]))"
   ]
  },
  {
   "cell_type": "code",
   "execution_count": 22,
   "metadata": {},
   "outputs": [
    {
     "name": "stdout",
     "output_type": "stream",
     "text": [
      "R2 for test data for 'a' is  0.9727324277496395\n",
      "R2 for test data for 'b' is  0.7733593089662094\n",
      "R2 for test data for 'c' is  0.9025787752663601\n"
     ]
    }
   ],
   "source": [
    "print(\"R2 for test data for 'a' is \",reg1.score(x_test, y_test[:,0]))\n",
    "print(\"R2 for test data for 'b' is \",reg2.score(x_test, y_test[:,1]))\n",
    "print(\"R2 for test data for 'c' is \",reg3.score(x_test, y_test[:,2]))"
   ]
  },
  {
   "cell_type": "code",
   "execution_count": 23,
   "metadata": {},
   "outputs": [
    {
     "name": "stdout",
     "output_type": "stream",
     "text": [
      "R2 for train data for 'a' is  0.9762821692566473\n",
      "R2 for train data for 'b' is  0.894315672654229\n",
      "R2 for train data for 'c' is  0.9587198939143792\n"
     ]
    }
   ],
   "source": [
    "print(\"R2 for train data for 'a' is \",reg1.score(x_train, y_train[:,0]))\n",
    "print(\"R2 for train data for 'b' is \",reg2.score(x_train, y_train[:,1]))\n",
    "print(\"R2 for train data for 'c' is \",reg3.score(x_train, y_train[:,2]))"
   ]
  },
  {
   "cell_type": "code",
   "execution_count": 48,
   "metadata": {
    "scrolled": true
   },
   "outputs": [
    {
     "name": "stdout",
     "output_type": "stream",
     "text": [
      "Training data error in 'a': 0.4246225534347573\n",
      "Training data error in 'b': 0.8069595549260664\n",
      "Training data error in 'c': 0.5527236939907271\n"
     ]
    }
   ],
   "source": [
    "print(\"Training data error in 'a':\", np.mean(np.abs(y_train[:,0]-f1.predict(x_train))*100/y_train[:,0]))\n",
    "print(\"Training data error in 'b':\", np.mean(np.abs(y_train[:,1]-f2.predict(x_train))*100/y_train[:,1]))\n",
    "print(\"Training data error in 'c':\", np.mean(np.abs(y_train[:,2]-f3.predict(x_train))*100/y_train[:,2]))"
   ]
  },
  {
   "cell_type": "code",
   "execution_count": 44,
   "metadata": {},
   "outputs": [
    {
     "data": {
      "image/png": "[encoded data removed]",
      "text/plain": [
       "<Figure size 432x288 with 1 Axes>"
      ]
     },
     "metadata": {
      "needs_background": "light"
     },
     "output_type": "display_data"
    }
   ],
   "source": [
    "s1 = plt.scatter(x_test[:,0],y_test[:,0])\n",
    "s2 = plt.scatter(x_test[:,0],ypred[:,0])\n",
    "plt.legend((s1, s2),('Actual Value','Predicted value'))\n",
    "plt.title(\"Ionic radii of A vs lattice constant 'a'\")\n",
    "plt.xlabel(\"Ionic radii of A\")\n",
    "plt.ylabel(\"Lattice constant 'a'\")\n",
    "plt.show()"
   ]
  },
  {
   "cell_type": "code",
   "execution_count": 45,
   "metadata": {},
   "outputs": [
    {
     "data": {
      "image/png": "[encoded data removed]",
      "text/plain": [
       "<Figure size 432x288 with 1 Axes>"
      ]
     },
     "metadata": {
      "needs_background": "light"
     },
     "output_type": "display_data"
    }
   ],
   "source": [
    "s3 = plt.scatter(x_test[:,1],y_test[:,1])\n",
    "s4 = plt.scatter(x_test[:,1],ypred[:,1])\n",
    "plt.legend((s1, s2),('Actual Value','Predicted value'))\n",
    "plt.title(\"Ionic radii of B vs lattice constant 'b'\")\n",
    "plt.xlabel(\"Ionic radii of B\")\n",
    "plt.ylabel(\"Lattice constant 'b'\")\n",
    "plt.show()"
   ]
  },
  {
   "cell_type": "code",
   "execution_count": 49,
   "metadata": {},
   "outputs": [
    {
     "data": {
      "image/png": "[encoded data removed]",
      "text/plain": [
       "<Figure size 432x288 with 1 Axes>"
      ]
     },
     "metadata": {
      "needs_background": "light"
     },
     "output_type": "display_data"
    }
   ],
   "source": [
    "s5 = plt.scatter(x_test[:,1],y_test[:,0])\n",
    "s6 = plt.scatter(x_test[:,1],ypred[:,0])\n",
    "plt.legend((s5, s6),('Actual Value','Predicted value'))\n",
    "plt.title(\"Ionic radii of B vs lattice constant 'a'\")\n",
    "plt.xlabel(\"Ionic radii of B\")\n",
    "plt.ylabel(\"Lattice constant 'a'\")\n",
    "plt.show()"
   ]
  },
  {
   "cell_type": "code",
   "execution_count": 50,
   "metadata": {},
   "outputs": [
    {
     "data": {
      "image/png": "[encoded data removed]",
      "text/plain": [
       "<Figure size 432x288 with 1 Axes>"
      ]
     },
     "metadata": {
      "needs_background": "light"
     },
     "output_type": "display_data"
    }
   ],
   "source": [
    "s7 = plt.scatter(x_test[:,0],y_test[:,1])\n",
    "s8 = plt.scatter(x_test[:,0],ypred[:,1])\n",
    "plt.legend((s7, s8),('Actual Value','Predicted value'))\n",
    "plt.title(\"Ionic radii of A vs lattice constant 'b'\")\n",
    "plt.xlabel(\"Ionic radii of A\")\n",
    "plt.ylabel(\"Lattice constant 'b'\")\n",
    "plt.show()"
   ]
  },
  {
   "cell_type": "code",
   "execution_count": 28,
   "metadata": {},
   "outputs": [],
   "source": [
    "np.savetxt('x_train.csv', x_train, delimiter=',', fmt='%6f')"
   ]
  },
  {
   "cell_type": "code",
   "execution_count": 29,
   "metadata": {},
   "outputs": [],
   "source": [
    "np.savetxt('x_test.csv', x_test, delimiter=',', fmt='%6f')"
   ]
  },
  {
   "cell_type": "code",
   "execution_count": 30,
   "metadata": {},
   "outputs": [],
   "source": [
    "np.savetxt('y_train.csv', y_train, delimiter=',', fmt='%6f')"
   ]
  },
  {
   "cell_type": "code",
   "execution_count": 31,
   "metadata": {},
   "outputs": [],
   "source": [
    "np.savetxt('y_test.csv', y_test, delimiter=',', fmt='%6f')"
   ]
  },
  {
   "cell_type": "code",
   "execution_count": null,
   "metadata": {},
   "outputs": [],
   "source": []
  }
 ],
 "metadata": {
  "kernelspec": {
   "display_name": "Python 3",
   "language": "python",
   "name": "python3"
  },
  "language_info": {
   "codemirror_mode": {
    "name": "ipython",
    "version": 3
   },
   "file_extension": ".py",
   "mimetype": "text/x-python",
   "name": "python",
   "nbconvert_exporter": "python",
   "pygments_lexer": "ipython3",
   "version": "3.8.3"
  }
 },
 "nbformat": 4,
 "nbformat_minor": 4
}
