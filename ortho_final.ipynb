{
 "cells": [
  {
   "cell_type": "code",
   "execution_count": 20,
   "metadata": {},
   "outputs": [],
   "source": [
    "import numpy as np\n",
    "import matplotlib.pyplot as plt\n",
    "import pandas as pd\n",
    "from sklearn.preprocessing import StandardScaler\n",
    "from sklearn.model_selection import train_test_split, GridSearchCV\n",
    "from sklearn.svm import SVR"
   ]
  },
  {
   "cell_type": "code",
   "execution_count": 21,
   "metadata": {},
   "outputs": [],
   "source": [
    "dataset = pd.read_csv(\"orthorhombic_dataset.csv\")"
   ]
  },
  {
   "cell_type": "code",
   "execution_count": 22,
   "metadata": {},
   "outputs": [],
   "source": [
    "x = dataset.iloc[:,1:10].values\n",
    "y = dataset.iloc[:,10:].values"
   ]
  },
  {
   "cell_type": "code",
   "execution_count": 23,
   "metadata": {},
   "outputs": [],
   "source": [
    "#print(x)\n",
    "#print(y)"
   ]
  },
  {
   "cell_type": "code",
   "execution_count": 24,
   "metadata": {},
   "outputs": [],
   "source": [
    "x_train, x_test, y_train, y_test = train_test_split(x, y, test_size=0.2)"
   ]
  },
  {
   "cell_type": "code",
   "execution_count": 7,
   "metadata": {},
   "outputs": [],
   "source": [
    "#########################################             for a           ##############################################\n",
    "\n",
    "#GridSearchCV\n",
    "grid_para={'C':np.linspace(0.1, 100, 50), 'epsilon':np.linspace(0.05, 1, 50), 'gamma':np.linspace(0.1, 10, 50)}\n",
    "gd_sr1 = GridSearchCV(SVR(kernel = 'rbf'),param_grid = grid_para, scoring='r2', n_jobs=-1, cv=4)\n",
    "gd_sr1.fit(x_train, y_train[:,0])\n",
    "best_para1 = gd_sr1.best_params_\n",
    "best_result1 = gd_sr1.best_score_"
   ]
  },
  {
   "cell_type": "code",
   "execution_count": 36,
   "metadata": {},
   "outputs": [
    {
     "name": "stdout",
     "output_type": "stream",
     "text": [
      "Hyperparamter for a: {'C': 30.68163265306123, 'epsilon': 0.05, 'gamma': 0.1}\n",
      "best accuracy for a: 0.9221348380081914\n"
     ]
    }
   ],
   "source": [
    "print(\"Hyperparamter for a:\",best_para1)\n",
    "print(\"best accuracy for a:\",best_result1)"
   ]
  },
  {
   "cell_type": "code",
   "execution_count": 26,
   "metadata": {},
   "outputs": [],
   "source": [
    "reg1 = SVR(kernel='rbf', C=30.68163265306123, epsilon=0.05, gamma=0.1)\n",
    "f1 = reg1.fit(x_train,y_train[:,0])\n",
    "ypred1 = f1.predict(x_test)"
   ]
  },
  {
   "cell_type": "code",
   "execution_count": 10,
   "metadata": {},
   "outputs": [],
   "source": [
    "#########################################             for b           ##############################################\n",
    "\n",
    "#GridSearchCV\n",
    "grid_para={'C':np.linspace(0.1, 100, 50), 'epsilon':np.linspace(0.05, 1, 50), 'gamma':np.linspace(0.1, 10, 50)}\n",
    "gd_sr2 = GridSearchCV(SVR(kernel = 'rbf'),param_grid = grid_para, scoring='r2', n_jobs=-1, cv=4)\n",
    "gd_sr2.fit(x_train, y_train[:,1])\n",
    "best_para2 = gd_sr2.best_params_\n",
    "best_result2 = gd_sr2.best_score_"
   ]
  },
  {
   "cell_type": "code",
   "execution_count": 37,
   "metadata": {},
   "outputs": [
    {
     "name": "stdout",
     "output_type": "stream",
     "text": [
      "Hyperparamter for a: {'C': 81.65102040816328, 'epsilon': 0.05, 'gamma': 0.3020408163265306}\n",
      "best accuracy for a: 0.9144292802426119\n"
     ]
    }
   ],
   "source": [
    "print(\"Hyperparamter for a:\",best_para2)\n",
    "print(\"best accuracy for a:\",best_result2)"
   ]
  },
  {
   "cell_type": "code",
   "execution_count": 28,
   "metadata": {},
   "outputs": [],
   "source": [
    "reg2 = SVR(kernel='rbf', C=81.65102040816328, epsilon=0.05, gamma=0.3020408163265306)\n",
    "f2 = reg2.fit(x_train,y_train[:,1])\n",
    "ypred2 = f2.predict(x_test)"
   ]
  },
  {
   "cell_type": "code",
   "execution_count": 13,
   "metadata": {},
   "outputs": [],
   "source": [
    "#########################################             for c           ##############################################\n",
    "\n",
    "#GridSearchCV\n",
    "grid_para={'C':np.linspace(0.1, 100, 50), 'epsilon':np.linspace(0.05, 1, 50), 'gamma':np.linspace(0.1, 10, 50)}\n",
    "gd_sr3 = GridSearchCV(SVR(kernel = 'rbf'),param_grid = grid_para, scoring='r2', n_jobs=-1, cv=4)\n",
    "gd_sr3.fit(x_train, y_train[:,2])\n",
    "best_para3 = gd_sr3.best_params_\n",
    "best_result3 = gd_sr3.best_score_"
   ]
  },
  {
   "cell_type": "code",
   "execution_count": 39,
   "metadata": {},
   "outputs": [
    {
     "name": "stdout",
     "output_type": "stream",
     "text": [
      "Hyperparamter for a: {'C': 12.332653061224491, 'epsilon': 0.06938775510204082, 'gamma': 0.1}\n",
      "best accuracy for a: 0.8851031041954114\n"
     ]
    }
   ],
   "source": [
    "print(\"Hyperparamter for a:\",best_para3)\n",
    "print(\"best accuracy for a:\",best_result3)"
   ]
  },
  {
   "cell_type": "code",
   "execution_count": 40,
   "metadata": {},
   "outputs": [],
   "source": [
    "reg3 = SVR(kernel='rbf', C=12.332653061224491, epsilon=0.06938775510204082, gamma=0.1)\n",
    "f3 = reg3.fit(x_train,y_train[:,2])\n",
    "ypred3 = f3.predict(x_test)"
   ]
  },
  {
   "cell_type": "code",
   "execution_count": 41,
   "metadata": {},
   "outputs": [],
   "source": [
    "#ypred = np.hstack((np.hstack((ypred1.reshape(-1,1), ypred2.reshape(-1,1))), ypred3.reshape(-1,1)))\n",
    "ypred = np.hstack((ypred1.reshape(-1,1), ypred2.reshape(-1,1), ypred3.reshape(-1,1)))\n",
    "#print(ypred)"
   ]
  },
  {
   "cell_type": "code",
   "execution_count": 42,
   "metadata": {},
   "outputs": [
    {
     "name": "stdout",
     "output_type": "stream",
     "text": [
      "Mean error in a in %: 0.506208397437477\n",
      "Mean error in b in %: 0.805420228726267\n",
      "Mean error in c in %: 0.8675712216337141\n"
     ]
    }
   ],
   "source": [
    "error = abs((y_test-ypred)*100/y_test)\n",
    "print(\"Mean error in a in %:\", np.mean(error[:,0]))\n",
    "print(\"Mean error in b in %:\", np.mean(error[:,1]))\n",
    "print(\"Mean error in c in %:\", np.mean(error[:,2]))"
   ]
  },
  {
   "cell_type": "code",
   "execution_count": null,
   "metadata": {},
   "outputs": [],
   "source": []
  }
 ],
 "metadata": {
  "kernelspec": {
   "display_name": "Python 3",
   "language": "python",
   "name": "python3"
  },
  "language_info": {
   "codemirror_mode": {
    "name": "ipython",
    "version": 3
   },
   "file_extension": ".py",
   "mimetype": "text/x-python",
   "name": "python",
   "nbconvert_exporter": "python",
   "pygments_lexer": "ipython3",
   "version": "3.8.3"
  }
 },
 "nbformat": 4,
 "nbformat_minor": 4
}
