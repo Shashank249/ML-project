{
 "cells": [
  {
   "cell_type": "code",
   "execution_count": 1,
   "metadata": {},
   "outputs": [],
   "source": [
    "from sklearn.model_selection import cross_val_score, train_test_split, GridSearchCV\n",
    "from sklearn.svm import SVR\n",
    "import pandas as pd\n",
    "import numpy as np\n",
    "import matplotlib.pyplot as plt"
   ]
  },
  {
   "cell_type": "code",
   "execution_count": 66,
   "metadata": {},
   "outputs": [
    {
     "name": "stdout",
     "output_type": "stream",
     "text": [
      "(152, 17)\n"
     ]
    },
    {
     "data": {
      "text/html": [
       "<div>\n",
       "<style scoped>\n",
       "    .dataframe tbody tr th:only-of-type {\n",
       "        vertical-align: middle;\n",
       "    }\n",
       "\n",
       "    .dataframe tbody tr th {\n",
       "        vertical-align: top;\n",
       "    }\n",
       "\n",
       "    .dataframe thead th {\n",
       "        text-align: right;\n",
       "    }\n",
       "</style>\n",
       "<table border=\"1\" class=\"dataframe\">\n",
       "  <thead>\n",
       "    <tr style=\"text-align: right;\">\n",
       "      <th></th>\n",
       "      <th>index</th>\n",
       "      <th>compounds</th>\n",
       "      <th>rA (A)</th>\n",
       "      <th>rB(A)</th>\n",
       "      <th>rX (A)</th>\n",
       "      <th>vA</th>\n",
       "      <th>vB</th>\n",
       "      <th>vX</th>\n",
       "      <th>eA</th>\n",
       "      <th>eB</th>\n",
       "      <th>eX</th>\n",
       "      <th>a (A)</th>\n",
       "      <th>b (A)</th>\n",
       "      <th>c (A)</th>\n",
       "      <th>a (A) [5]</th>\n",
       "      <th>b (A) [5]</th>\n",
       "      <th>c (A) [5]</th>\n",
       "    </tr>\n",
       "  </thead>\n",
       "  <tbody>\n",
       "    <tr>\n",
       "      <th>0</th>\n",
       "      <td>NaN</td>\n",
       "      <td>NaUO3</td>\n",
       "      <td>1.39</td>\n",
       "      <td>0.760</td>\n",
       "      <td>1.4</td>\n",
       "      <td>1</td>\n",
       "      <td>5</td>\n",
       "      <td>-2</td>\n",
       "      <td>0.93</td>\n",
       "      <td>1.38</td>\n",
       "      <td>3.44</td>\n",
       "      <td>5.775</td>\n",
       "      <td>5.905</td>\n",
       "      <td>8.250</td>\n",
       "      <td>5.607</td>\n",
       "      <td>5.627</td>\n",
       "      <td>8.020</td>\n",
       "    </tr>\n",
       "    <tr>\n",
       "      <th>1</th>\n",
       "      <td>NaN</td>\n",
       "      <td>NaTaO3</td>\n",
       "      <td>1.39</td>\n",
       "      <td>0.640</td>\n",
       "      <td>1.4</td>\n",
       "      <td>1</td>\n",
       "      <td>5</td>\n",
       "      <td>-2</td>\n",
       "      <td>0.93</td>\n",
       "      <td>1.50</td>\n",
       "      <td>3.44</td>\n",
       "      <td>5.494</td>\n",
       "      <td>5.513</td>\n",
       "      <td>7.751</td>\n",
       "      <td>5.415</td>\n",
       "      <td>5.434</td>\n",
       "      <td>7.745</td>\n",
       "    </tr>\n",
       "    <tr>\n",
       "      <th>2</th>\n",
       "      <td>NaN</td>\n",
       "      <td>NaNbO3</td>\n",
       "      <td>1.39</td>\n",
       "      <td>0.640</td>\n",
       "      <td>1.4</td>\n",
       "      <td>1</td>\n",
       "      <td>5</td>\n",
       "      <td>-2</td>\n",
       "      <td>0.93</td>\n",
       "      <td>1.60</td>\n",
       "      <td>3.44</td>\n",
       "      <td>5.510</td>\n",
       "      <td>5.570</td>\n",
       "      <td>7.770</td>\n",
       "      <td>5.415</td>\n",
       "      <td>5.434</td>\n",
       "      <td>7.745</td>\n",
       "    </tr>\n",
       "    <tr>\n",
       "      <th>3</th>\n",
       "      <td>NaN</td>\n",
       "      <td>NaPaO3</td>\n",
       "      <td>1.39</td>\n",
       "      <td>0.780</td>\n",
       "      <td>1.4</td>\n",
       "      <td>1</td>\n",
       "      <td>5</td>\n",
       "      <td>-2</td>\n",
       "      <td>0.93</td>\n",
       "      <td>1.50</td>\n",
       "      <td>3.44</td>\n",
       "      <td>5.820</td>\n",
       "      <td>5.920</td>\n",
       "      <td>8.360</td>\n",
       "      <td>5.639</td>\n",
       "      <td>5.659</td>\n",
       "      <td>8.065</td>\n",
       "    </tr>\n",
       "    <tr>\n",
       "      <th>4</th>\n",
       "      <td>NaN</td>\n",
       "      <td>CaMnO3</td>\n",
       "      <td>1.34</td>\n",
       "      <td>0.530</td>\n",
       "      <td>1.4</td>\n",
       "      <td>2</td>\n",
       "      <td>4</td>\n",
       "      <td>-2</td>\n",
       "      <td>1.00</td>\n",
       "      <td>1.55</td>\n",
       "      <td>3.44</td>\n",
       "      <td>5.270</td>\n",
       "      <td>5.275</td>\n",
       "      <td>7.464</td>\n",
       "      <td>5.292</td>\n",
       "      <td>5.312</td>\n",
       "      <td>7.519</td>\n",
       "    </tr>\n",
       "    <tr>\n",
       "      <th>5</th>\n",
       "      <td>NaN</td>\n",
       "      <td>CaCrO3</td>\n",
       "      <td>1.34</td>\n",
       "      <td>0.550</td>\n",
       "      <td>1.4</td>\n",
       "      <td>2</td>\n",
       "      <td>4</td>\n",
       "      <td>-2</td>\n",
       "      <td>1.00</td>\n",
       "      <td>1.66</td>\n",
       "      <td>3.44</td>\n",
       "      <td>5.287</td>\n",
       "      <td>5.316</td>\n",
       "      <td>7.486</td>\n",
       "      <td>5.324</td>\n",
       "      <td>5.345</td>\n",
       "      <td>7.565</td>\n",
       "    </tr>\n",
       "    <tr>\n",
       "      <th>6</th>\n",
       "      <td>NaN</td>\n",
       "      <td>CaVO3</td>\n",
       "      <td>1.34</td>\n",
       "      <td>0.580</td>\n",
       "      <td>1.4</td>\n",
       "      <td>2</td>\n",
       "      <td>4</td>\n",
       "      <td>-2</td>\n",
       "      <td>1.00</td>\n",
       "      <td>1.63</td>\n",
       "      <td>3.44</td>\n",
       "      <td>5.326</td>\n",
       "      <td>5.352</td>\n",
       "      <td>7.547</td>\n",
       "      <td>5.374</td>\n",
       "      <td>5.394</td>\n",
       "      <td>7.635</td>\n",
       "    </tr>\n",
       "    <tr>\n",
       "      <th>7</th>\n",
       "      <td>NaN</td>\n",
       "      <td>CaTiO3</td>\n",
       "      <td>1.34</td>\n",
       "      <td>0.605</td>\n",
       "      <td>1.4</td>\n",
       "      <td>2</td>\n",
       "      <td>4</td>\n",
       "      <td>-2</td>\n",
       "      <td>1.00</td>\n",
       "      <td>1.54</td>\n",
       "      <td>3.44</td>\n",
       "      <td>5.381</td>\n",
       "      <td>5.443</td>\n",
       "      <td>7.645</td>\n",
       "      <td>5.415</td>\n",
       "      <td>5.436</td>\n",
       "      <td>7.694</td>\n",
       "    </tr>\n",
       "    <tr>\n",
       "      <th>8</th>\n",
       "      <td>NaN</td>\n",
       "      <td>CaRuO3</td>\n",
       "      <td>1.34</td>\n",
       "      <td>0.680</td>\n",
       "      <td>1.4</td>\n",
       "      <td>2</td>\n",
       "      <td>4</td>\n",
       "      <td>-2</td>\n",
       "      <td>1.00</td>\n",
       "      <td>2.20</td>\n",
       "      <td>3.44</td>\n",
       "      <td>5.360</td>\n",
       "      <td>5.530</td>\n",
       "      <td>7.670</td>\n",
       "      <td>5.538</td>\n",
       "      <td>5.559</td>\n",
       "      <td>7.869</td>\n",
       "    </tr>\n",
       "    <tr>\n",
       "      <th>9</th>\n",
       "      <td>NaN</td>\n",
       "      <td>CaMoO3</td>\n",
       "      <td>1.34</td>\n",
       "      <td>0.650</td>\n",
       "      <td>1.4</td>\n",
       "      <td>2</td>\n",
       "      <td>4</td>\n",
       "      <td>-2</td>\n",
       "      <td>1.00</td>\n",
       "      <td>2.16</td>\n",
       "      <td>3.44</td>\n",
       "      <td>5.450</td>\n",
       "      <td>5.580</td>\n",
       "      <td>7.800</td>\n",
       "      <td>5.489</td>\n",
       "      <td>5.510</td>\n",
       "      <td>7.799</td>\n",
       "    </tr>\n",
       "  </tbody>\n",
       "</table>\n",
       "</div>"
      ],
      "text/plain": [
       "   index compounds  rA (A)  rB(A)  rX (A)  vA  vB  vX    eA    eB    eX  \\\n",
       "0    NaN     NaUO3    1.39  0.760     1.4   1   5  -2  0.93  1.38  3.44   \n",
       "1    NaN    NaTaO3    1.39  0.640     1.4   1   5  -2  0.93  1.50  3.44   \n",
       "2    NaN    NaNbO3    1.39  0.640     1.4   1   5  -2  0.93  1.60  3.44   \n",
       "3    NaN    NaPaO3    1.39  0.780     1.4   1   5  -2  0.93  1.50  3.44   \n",
       "4    NaN    CaMnO3    1.34  0.530     1.4   2   4  -2  1.00  1.55  3.44   \n",
       "5    NaN    CaCrO3    1.34  0.550     1.4   2   4  -2  1.00  1.66  3.44   \n",
       "6    NaN     CaVO3    1.34  0.580     1.4   2   4  -2  1.00  1.63  3.44   \n",
       "7    NaN    CaTiO3    1.34  0.605     1.4   2   4  -2  1.00  1.54  3.44   \n",
       "8    NaN    CaRuO3    1.34  0.680     1.4   2   4  -2  1.00  2.20  3.44   \n",
       "9    NaN    CaMoO3    1.34  0.650     1.4   2   4  -2  1.00  2.16  3.44   \n",
       "\n",
       "   a (A)  b (A)  c (A)  a (A) [5]  b (A) [5]  c (A) [5]  \n",
       "0  5.775  5.905  8.250      5.607      5.627      8.020  \n",
       "1  5.494  5.513  7.751      5.415      5.434      7.745  \n",
       "2  5.510  5.570  7.770      5.415      5.434      7.745  \n",
       "3  5.820  5.920  8.360      5.639      5.659      8.065  \n",
       "4  5.270  5.275  7.464      5.292      5.312      7.519  \n",
       "5  5.287  5.316  7.486      5.324      5.345      7.565  \n",
       "6  5.326  5.352  7.547      5.374      5.394      7.635  \n",
       "7  5.381  5.443  7.645      5.415      5.436      7.694  \n",
       "8  5.360  5.530  7.670      5.538      5.559      7.869  \n",
       "9  5.450  5.580  7.800      5.489      5.510      7.799  "
      ]
     },
     "execution_count": 66,
     "metadata": {},
     "output_type": "execute_result"
    }
   ],
   "source": [
    "data = pd.read_csv('ortho.csv')\n",
    "x = data.iloc[:,2:11].values\n",
    "y = data.iloc[:,11:14].values\n",
    "print(np.shape(data))\n",
    "data.head(n=10)"
   ]
  },
  {
   "cell_type": "code",
   "execution_count": 3,
   "metadata": {},
   "outputs": [],
   "source": [
    "x_train, x_test, y_train, y_test = train_test_split(x, y, test_size=0.2)"
   ]
  },
  {
   "cell_type": "code",
   "execution_count": 4,
   "metadata": {},
   "outputs": [
    {
     "name": "stdout",
     "output_type": "stream",
     "text": [
      "Rbf 0.8875630944696826 10 0.049999999999999996 1\n",
      "Linear 0.9266403256074242 100 0.01\n"
     ]
    }
   ],
   "source": [
    "x_train, x_test, y_train, y_test = train_test_split(x, y, test_size=0.2)\n",
    "cvs_svr_linear = np.zeros(10)\n",
    "cvs_svr_rbf = np.zeros(10)\n",
    "r = np.zeros(24)\n",
    "C = [1, 5, 10, 25, 50, 75, 100]\n",
    "epsilon = np.arange(0.01, 0.5, 0.02)\n",
    "gamma = np.arange(1, 25, 1)\n",
    "ep = np.zeros(len(epsilon))\n",
    "ep1 = np.zeros(len(C))\n",
    "r1 = np.zeros(len(gamma))\n",
    "r2 = np.zeros(len(epsilon))\n",
    "r3 = np.zeros(len(C))\n",
    "for i in range(len(C)):\n",
    "    for j in range(len(epsilon)):\n",
    "        for k in range(len(gamma)):\n",
    "            cvs_svr_linear = cross_val_score(SVR(kernel='linear', C= C[i], epsilon= epsilon[j], gamma= gamma[k]), x_train, y_train[:,0], cv=5, scoring='r2', n_jobs=-1)\n",
    "            cvs_svr_rbf = cross_val_score(SVR(kernel='rbf', C= C[i], epsilon= epsilon[j], gamma= gamma[k]), x_train, y_train[:,0], cv=5, scoring='r2', n_jobs=-1)\n",
    "            r1[k] = np.mean(cvs_svr_rbf)\n",
    "        #print('Rbf',np.max(r1), C[i], epsilon[j], gamma[np.argmax(r1)])\n",
    "        r2[j] = np.max(r1)\n",
    "        ep[j] = np.mean(cvs_svr_linear)\n",
    "        #print('Linear',np.mean(cvs_svr_linear), C[i], epsilon[j])\n",
    "    ep1[i] = np.max(ep)\n",
    "    r3[i] = np.max(r2)\n",
    "#rbf[l]=np.max(r3)\n",
    "#linear[l]=np.max(ep1)\n",
    "#lr[l]=np.mean(cvs_linear)\n",
    "print('Rbf',np.max(r3), C[np.argmax(r3)], epsilon[np.argmax(r2)], gamma[np.argmax(r1)])\n",
    "print('Linear',np.max(ep1), C[np.argmax(ep1)], epsilon[np.argmax(ep)])\n"
   ]
  },
  {
   "cell_type": "code",
   "execution_count": 5,
   "metadata": {},
   "outputs": [
    {
     "name": "stdout",
     "output_type": "stream",
     "text": [
      "Rbf 0.7868992605890318 75 0.01 1\n",
      "Linear 0.6250821739999979 10 0.049999999999999996\n"
     ]
    }
   ],
   "source": [
    "cvs_svr_linear = np.zeros(10)\n",
    "cvs_svr_rbf = np.zeros(10)\n",
    "r = np.zeros(24)\n",
    "C = [1, 5, 10, 25, 50, 75, 100]\n",
    "epsilon = np.arange(0.01, 0.5, 0.02)\n",
    "gamma = np.arange(1, 25, 1)\n",
    "ep = np.zeros(len(epsilon))\n",
    "ep1 = np.zeros(len(C))\n",
    "r1 = np.zeros(len(gamma))\n",
    "r2 = np.zeros(len(epsilon))\n",
    "r3 = np.zeros(len(C))\n",
    "for i in range(len(C)):\n",
    "    for j in range(len(epsilon)):\n",
    "        for k in range(len(gamma)):\n",
    "            cvs_svr_linear = cross_val_score(SVR(kernel='linear', C= C[i], epsilon= epsilon[j], gamma= gamma[k]), x_train, y_train[:,1], cv=5, scoring='r2', n_jobs=-1)\n",
    "            cvs_svr_rbf = cross_val_score(SVR(kernel='rbf', C= C[i], epsilon= epsilon[j], gamma= gamma[k]), x_train, y_train[:,1], cv=5, scoring='r2', n_jobs=-1)\n",
    "            r1[k] = np.mean(cvs_svr_rbf)\n",
    "        #print('Rbf',np.max(r1), C[i], epsilon[j], gamma[np.argmax(r1)])\n",
    "        r2[j] = np.max(r1)\n",
    "        ep[j] = np.mean(cvs_svr_linear)\n",
    "        #print('Linear',np.mean(cvs_svr_linear), C[i], epsilon[j])\n",
    "    ep1[i] = np.max(ep)\n",
    "    r3[i] = np.max(r2)\n",
    "#rbf[l]=np.max(r3)\n",
    "#linear[l]=np.max(ep1)\n",
    "#lr[l]=np.mean(cvs_linear)\n",
    "print('Rbf',np.max(r3), C[np.argmax(r3)], epsilon[np.argmax(r2)], gamma[np.argmax(r1)])\n",
    "print('Linear',np.max(ep1), C[np.argmax(ep1)], epsilon[np.argmax(ep)])\n"
   ]
  },
  {
   "cell_type": "code",
   "execution_count": 6,
   "metadata": {},
   "outputs": [
    {
     "name": "stdout",
     "output_type": "stream",
     "text": [
      "Rbf 0.8162679346548003 75 0.01 1\n",
      "Linear 0.8355380736047995 100 0.03\n"
     ]
    }
   ],
   "source": [
    "cvs_svr_linear = np.zeros(10)\n",
    "cvs_svr_rbf = np.zeros(10)\n",
    "r = np.zeros(24)\n",
    "C = [1, 5, 10, 25, 50, 75, 100]\n",
    "epsilon = np.arange(0.01, 0.5, 0.02)\n",
    "gamma = np.arange(1, 25, 1)\n",
    "ep = np.zeros(len(epsilon))\n",
    "ep1 = np.zeros(len(C))\n",
    "r1 = np.zeros(len(gamma))\n",
    "r2 = np.zeros(len(epsilon))\n",
    "r3 = np.zeros(len(C))\n",
    "for i in range(len(C)):\n",
    "    for j in range(len(epsilon)):\n",
    "        for k in range(len(gamma)):\n",
    "            cvs_svr_linear = cross_val_score(SVR(kernel='linear', C= C[i], epsilon= epsilon[j], gamma= gamma[k]), x_train, y_train[:,2], cv=5, scoring='r2', n_jobs=-1)\n",
    "            cvs_svr_rbf = cross_val_score(SVR(kernel='rbf', C= C[i], epsilon= epsilon[j], gamma= gamma[k]), x_train, y_train[:,2], cv=5, scoring='r2', n_jobs=-1)\n",
    "            r1[k] = np.mean(cvs_svr_rbf)\n",
    "        #print('Rbf',np.max(r1), C[i], epsilon[j], gamma[np.argmax(r1)])\n",
    "        r2[j] = np.max(r1)\n",
    "        ep[j] = np.mean(cvs_svr_linear)\n",
    "        #print('Linear',np.mean(cvs_svr_linear), C[i], epsilon[j])\n",
    "    ep1[i] = np.max(ep)\n",
    "    r3[i] = np.max(r2)\n",
    "#rbf[l]=np.max(r3)\n",
    "#linear[l]=np.max(ep1)\n",
    "#lr[l]=np.mean(cvs_linear)\n",
    "print('Rbf',np.max(r3), C[np.argmax(r3)], epsilon[np.argmax(r2)], gamma[np.argmax(r1)])\n",
    "print('Linear',np.max(ep1), C[np.argmax(ep1)], epsilon[np.argmax(ep)])\n"
   ]
  },
  {
   "cell_type": "code",
   "execution_count": 96,
   "metadata": {},
   "outputs": [],
   "source": [
    "x_train, x_test, y_train, y_test = train_test_split(x, y, test_size=0.2)"
   ]
  },
  {
   "cell_type": "code",
   "execution_count": 97,
   "metadata": {},
   "outputs": [],
   "source": [
    "#f1 = SVR(kernel='rbf', C=10, epsilon=0.05, gamma=1)"
   ]
  },
  {
   "cell_type": "code",
   "execution_count": 98,
   "metadata": {},
   "outputs": [],
   "source": [
    "#f1.fit(x_train, y_train[:,0])"
   ]
  },
  {
   "cell_type": "code",
   "execution_count": 99,
   "metadata": {},
   "outputs": [
    {
     "data": {
      "text/plain": [
       "SVR(C=100, epsilon=0.01, kernel='linear')"
      ]
     },
     "execution_count": 99,
     "metadata": {},
     "output_type": "execute_result"
    }
   ],
   "source": [
    "#f1.predict(x_test)\n",
    "f4 = SVR(kernel='linear', C=100, epsilon=0.01)\n",
    "f4.fit(x_train, y_train[:,0])"
   ]
  },
  {
   "cell_type": "code",
   "execution_count": 100,
   "metadata": {},
   "outputs": [],
   "source": [
    "train_err1 = np.abs(y_train[:,0]-f4.predict(x_train))*100/y_train[:,0]"
   ]
  },
  {
   "cell_type": "code",
   "execution_count": 101,
   "metadata": {},
   "outputs": [
    {
     "name": "stdout",
     "output_type": "stream",
     "text": [
      "Mean training error (in %) for a is 0.5561313872685357 with range(0.007609540632797125, 4.318823650906472)\n"
     ]
    }
   ],
   "source": [
    "print(f'Mean training error (in %) for a is {np.mean(train_err1)} with range({np.min(train_err1)}, {np.max(train_err1)})')"
   ]
  },
  {
   "cell_type": "code",
   "execution_count": 102,
   "metadata": {},
   "outputs": [
    {
     "name": "stdout",
     "output_type": "stream",
     "text": [
      "Mean testing error (in %) for a is 0.4962135857777029 with range(0.09309500147701934, 2.044150949839878)\n"
     ]
    }
   ],
   "source": [
    "test_err1 = np.abs(y_test[:,0]-f4.predict(x_test))*100/y_test[:,0]\n",
    "print(f'Mean testing error (in %) for a is {np.mean(test_err1)} with range({np.min(test_err1)}, {np.max(test_err1)})')"
   ]
  },
  {
   "cell_type": "code",
   "execution_count": 103,
   "metadata": {},
   "outputs": [
    {
     "data": {
      "text/plain": [
       "SVR(C=75, epsilon=0.01, gamma=1)"
      ]
     },
     "execution_count": 103,
     "metadata": {},
     "output_type": "execute_result"
    }
   ],
   "source": [
    "f2 = SVR(kernel='rbf', C=75, epsilon=0.01, gamma=1)\n",
    "f2.fit(x_train, y_train[:,1])"
   ]
  },
  {
   "cell_type": "code",
   "execution_count": 104,
   "metadata": {},
   "outputs": [
    {
     "name": "stdout",
     "output_type": "stream",
     "text": [
      "Mean training error (in %) for b is 0.5790089466178376 with range (0.00013937286533658675, 6.10753525116761)\n"
     ]
    }
   ],
   "source": [
    "train_err2 = np.abs(y_train[:,1]-f2.predict(x_train))*100/y_train[:,1]\n",
    "print(f'Mean training error (in %) for b is {np.mean(train_err2)} with range ({np.min(train_err2)}, {np.max(train_err2)})')"
   ]
  },
  {
   "cell_type": "code",
   "execution_count": 105,
   "metadata": {},
   "outputs": [
    {
     "name": "stdout",
     "output_type": "stream",
     "text": [
      "Mean testing error (in %) for b is 0.8802745447667063 with range (0.003316918119947216, 3.7234452556478925)\n"
     ]
    }
   ],
   "source": [
    "test_err2 = np.abs(y_test[:,1]-f2.predict(x_test))*100/y_test[:,1]\n",
    "print(f'Mean testing error (in %) for b is {np.mean(test_err2)} with range ({np.min(test_err2)}, {np.max(test_err2)})')"
   ]
  },
  {
   "cell_type": "code",
   "execution_count": 106,
   "metadata": {},
   "outputs": [
    {
     "data": {
      "text/plain": [
       "SVR(C=100, epsilon=0.03, kernel='linear')"
      ]
     },
     "execution_count": 106,
     "metadata": {},
     "output_type": "execute_result"
    }
   ],
   "source": [
    "f3 = SVR(kernel='linear', C=100, epsilon=0.03)\n",
    "f3.fit(x_train, y_train[:,2])"
   ]
  },
  {
   "cell_type": "code",
   "execution_count": 107,
   "metadata": {},
   "outputs": [
    {
     "name": "stdout",
     "output_type": "stream",
     "text": [
      "Mean training error (in %) for c is 0.7388880876113172 with range (0.0020418850848272535, 7.185586851657138)\n"
     ]
    }
   ],
   "source": [
    "train_err3 = np.abs(y_train[:,2]-f3.predict(x_train))*100/y_train[:,2]\n",
    "print(f'Mean training error (in %) for c is {np.mean(train_err3)} with range ({np.min(train_err3)}, {np.max(train_err3)})')"
   ]
  },
  {
   "cell_type": "code",
   "execution_count": 108,
   "metadata": {},
   "outputs": [
    {
     "name": "stdout",
     "output_type": "stream",
     "text": [
      "Mean testing error (in %) for c is 0.7798633937750573 with range (0.037474399040793166, 3.308617929945035)\n"
     ]
    }
   ],
   "source": [
    "test_err3 = np.abs(y_test[:,2]-f3.predict(x_test))*100/y_test[:,2]\n",
    "print(f'Mean testing error (in %) for c is {np.mean(test_err3)} with range ({np.min(test_err3)}, {np.max(test_err3)})')"
   ]
  },
  {
   "cell_type": "code",
   "execution_count": 71,
   "metadata": {},
   "outputs": [
    {
     "data": {
      "image/png": "[encoded data removed]",
      "text/plain": [
       "<Figure size 432x288 with 1 Axes>"
      ]
     },
     "metadata": {
      "needs_background": "light"
     },
     "output_type": "display_data"
    },
    {
     "data": {
      "image/png": "[encoded data removed]",
      "text/plain": [
       "<Figure size 432x288 with 1 Axes>"
      ]
     },
     "metadata": {
      "needs_background": "light"
     },
     "output_type": "display_data"
    },
    {
     "data": {
      "image/png": "[encoded data removed]",
      "text/plain": [
       "<Figure size 432x288 with 1 Axes>"
      ]
     },
     "metadata": {
      "needs_background": "light"
     },
     "output_type": "display_data"
    }
   ],
   "source": [
    "s9 = plt.scatter(x_test[:,0], y_test[:,0])\n",
    "s10 = plt.scatter(x_test[:,0], f4.predict(x_test))\n",
    "plt.xlabel('Ionic radii of A')\n",
    "plt.ylabel('Lattice constant a')\n",
    "plt.legend((s9,s10),('Actual','Predicted'))\n",
    "plt.show()\n",
    "s1 = plt.scatter(x_test[:,0], y_test[:,1])\n",
    "s2 = plt.scatter(x_test[:,0], f2.predict(x_test))\n",
    "plt.xlabel('Ionic radii of A')\n",
    "plt.ylabel('Lattice constant b')\n",
    "plt.legend((s1,s2),('Actual','Predicted'))\n",
    "plt.show()\n",
    "s3 = plt.scatter(x_test[:,0], y_test[:,2])\n",
    "s4 = plt.scatter(x_test[:,0], f3.predict(x_test))\n",
    "plt.xlabel('Ionic radii of A')\n",
    "plt.ylabel('Lattice constant c')\n",
    "plt.legend((s3,s4),('Actual','Predicted'))\n",
    "plt.show()"
   ]
  },
  {
   "cell_type": "code",
   "execution_count": 64,
   "metadata": {},
   "outputs": [
    {
     "data": {
      "image/png": "[encoded data removed]",
      "text/plain": [
       "<Figure size 432x288 with 1 Axes>"
      ]
     },
     "metadata": {
      "needs_background": "light"
     },
     "output_type": "display_data"
    },
    {
     "data": {
      "image/png": "[encoded data removed]",
      "text/plain": [
       "<Figure size 432x288 with 1 Axes>"
      ]
     },
     "metadata": {
      "needs_background": "light"
     },
     "output_type": "display_data"
    },
    {
     "data": {
      "image/png": "[encoded data removed]",
      "text/plain": [
       "<Figure size 432x288 with 1 Axes>"
      ]
     },
     "metadata": {
      "needs_background": "light"
     },
     "output_type": "display_data"
    }
   ],
   "source": [
    "s11 = plt.scatter(x_test[:,1], y_test[:,0])\n",
    "s12 = plt.scatter(x_test[:,1], f1.predict(x_test))\n",
    "plt.xlabel('Ionic radii of B')\n",
    "plt.ylabel('Lattice constant a')\n",
    "plt.legend((s11,s12),('Actual','Predicted'))\n",
    "plt.show()\n",
    "s5 = plt.scatter(x_test[:,1], y_test[:,1])\n",
    "s6 = plt.scatter(x_test[:,1], f2.predict(x_test))\n",
    "plt.xlabel('Ionic radii of B')\n",
    "plt.ylabel('Lattice constant b')\n",
    "plt.legend((s5,s6),('Actual','Predicted'))\n",
    "plt.show()\n",
    "s7 = plt.scatter(x_test[:,1], y_test[:,2])\n",
    "s8 = plt.scatter(x_test[:,1], f3.predict(x_test))\n",
    "plt.xlabel('Ionic radii of B')\n",
    "plt.ylabel('Lattice constant c')\n",
    "plt.legend((s7,s8),('Actual','Predicted'))\n",
    "plt.show()\n"
   ]
  },
  {
   "cell_type": "code",
   "execution_count": 69,
   "metadata": {},
   "outputs": [
    {
     "data": {
      "text/plain": [
       "SVR(C=100, epsilon=0.01, kernel='linear')"
      ]
     },
     "execution_count": 69,
     "metadata": {},
     "output_type": "execute_result"
    }
   ],
   "source": [
    "f4 = SVR(kernel='linear', C=100, epsilon=0.01)\n",
    "f4.fit(x_train, y_train[:,0])"
   ]
  },
  {
   "cell_type": "code",
   "execution_count": 70,
   "metadata": {},
   "outputs": [
    {
     "data": {
      "image/png": "[encoded data removed]",
      "text/plain": [
       "<Figure size 432x288 with 1 Axes>"
      ]
     },
     "metadata": {
      "needs_background": "light"
     },
     "output_type": "display_data"
    }
   ],
   "source": [
    "s13 = plt.scatter(x_test[:,0], y_test[:,0])\n",
    "s14 = plt.scatter(x_test[:,0], f4.predict(x_test))\n",
    "plt.xlabel('Ionic radii of A')\n",
    "plt.ylabel('Lattice constant a')\n",
    "plt.legend((s9,s10),('Actual','Predicted'))\n",
    "plt.show()"
   ]
  },
  {
   "cell_type": "code",
   "execution_count": null,
   "metadata": {},
   "outputs": [],
   "source": []
  }
 ],
 "metadata": {
  "kernelspec": {
   "display_name": "Python 3",
   "language": "python",
   "name": "python3"
  },
  "language_info": {
   "codemirror_mode": {
    "name": "ipython",
    "version": 3
   },
   "file_extension": ".py",
   "mimetype": "text/x-python",
   "name": "python",
   "nbconvert_exporter": "python",
   "pygments_lexer": "ipython3",
   "version": "3.8.3"
  }
 },
 "nbformat": 4,
 "nbformat_minor": 4
}
