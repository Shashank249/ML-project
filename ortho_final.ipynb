{
 "cells": [
  {
   "cell_type": "code",
   "execution_count": 2,
   "metadata": {},
   "outputs": [],
   "source": [
    "import numpy as np\n",
    "import matplotlib.pyplot as plt\n",
    "import pandas as pd\n",
    "from sklearn.preprocessing import StandardScaler\n",
    "from sklearn.model_selection import train_test_split, GridSearchCV\n",
    "from sklearn.svm import SVR"
   ]
  },
  {
   "cell_type": "code",
   "execution_count": 3,
   "metadata": {},
   "outputs": [
    {
     "data": {
      "text/html": [
       "<div>\n",
       "<style scoped>\n",
       "    .dataframe tbody tr th:only-of-type {\n",
       "        vertical-align: middle;\n",
       "    }\n",
       "\n",
       "    .dataframe tbody tr th {\n",
       "        vertical-align: top;\n",
       "    }\n",
       "\n",
       "    .dataframe thead th {\n",
       "        text-align: right;\n",
       "    }\n",
       "</style>\n",
       "<table border=\"1\" class=\"dataframe\">\n",
       "  <thead>\n",
       "    <tr style=\"text-align: right;\">\n",
       "      <th></th>\n",
       "      <th>Solids</th>\n",
       "      <th>rA</th>\n",
       "      <th>rB</th>\n",
       "      <th>rX</th>\n",
       "      <th>vA</th>\n",
       "      <th>vB</th>\n",
       "      <th>vX</th>\n",
       "      <th>EA</th>\n",
       "      <th>EB</th>\n",
       "      <th>EX</th>\n",
       "      <th>a</th>\n",
       "      <th>b</th>\n",
       "      <th>c</th>\n",
       "    </tr>\n",
       "  </thead>\n",
       "  <tbody>\n",
       "    <tr>\n",
       "      <th>0</th>\n",
       "      <td>NaUO3</td>\n",
       "      <td>1.02</td>\n",
       "      <td>0.760</td>\n",
       "      <td>1.35</td>\n",
       "      <td>1</td>\n",
       "      <td>5</td>\n",
       "      <td>-2</td>\n",
       "      <td>0.93</td>\n",
       "      <td>1.38</td>\n",
       "      <td>3.44</td>\n",
       "      <td>5.775</td>\n",
       "      <td>5.905</td>\n",
       "      <td>8.250</td>\n",
       "    </tr>\n",
       "    <tr>\n",
       "      <th>1</th>\n",
       "      <td>NaTaO3</td>\n",
       "      <td>1.02</td>\n",
       "      <td>0.640</td>\n",
       "      <td>1.35</td>\n",
       "      <td>1</td>\n",
       "      <td>5</td>\n",
       "      <td>-2</td>\n",
       "      <td>0.93</td>\n",
       "      <td>1.50</td>\n",
       "      <td>3.44</td>\n",
       "      <td>5.494</td>\n",
       "      <td>5.513</td>\n",
       "      <td>7.751</td>\n",
       "    </tr>\n",
       "    <tr>\n",
       "      <th>2</th>\n",
       "      <td>NaNbO3</td>\n",
       "      <td>1.02</td>\n",
       "      <td>0.640</td>\n",
       "      <td>1.35</td>\n",
       "      <td>1</td>\n",
       "      <td>5</td>\n",
       "      <td>-2</td>\n",
       "      <td>0.93</td>\n",
       "      <td>1.60</td>\n",
       "      <td>3.44</td>\n",
       "      <td>5.510</td>\n",
       "      <td>5.570</td>\n",
       "      <td>7.770</td>\n",
       "    </tr>\n",
       "    <tr>\n",
       "      <th>3</th>\n",
       "      <td>NaPaO3</td>\n",
       "      <td>1.02</td>\n",
       "      <td>0.780</td>\n",
       "      <td>1.35</td>\n",
       "      <td>1</td>\n",
       "      <td>5</td>\n",
       "      <td>-2</td>\n",
       "      <td>0.93</td>\n",
       "      <td>1.50</td>\n",
       "      <td>3.44</td>\n",
       "      <td>5.820</td>\n",
       "      <td>5.920</td>\n",
       "      <td>8.360</td>\n",
       "    </tr>\n",
       "    <tr>\n",
       "      <th>4</th>\n",
       "      <td>CaMnO3</td>\n",
       "      <td>1.00</td>\n",
       "      <td>0.530</td>\n",
       "      <td>1.35</td>\n",
       "      <td>2</td>\n",
       "      <td>4</td>\n",
       "      <td>-2</td>\n",
       "      <td>1.00</td>\n",
       "      <td>1.55</td>\n",
       "      <td>3.44</td>\n",
       "      <td>5.270</td>\n",
       "      <td>5.275</td>\n",
       "      <td>7.464</td>\n",
       "    </tr>\n",
       "    <tr>\n",
       "      <th>5</th>\n",
       "      <td>CaCrO3</td>\n",
       "      <td>1.00</td>\n",
       "      <td>0.550</td>\n",
       "      <td>1.35</td>\n",
       "      <td>2</td>\n",
       "      <td>4</td>\n",
       "      <td>-2</td>\n",
       "      <td>1.00</td>\n",
       "      <td>1.66</td>\n",
       "      <td>3.44</td>\n",
       "      <td>5.287</td>\n",
       "      <td>5.316</td>\n",
       "      <td>7.486</td>\n",
       "    </tr>\n",
       "    <tr>\n",
       "      <th>6</th>\n",
       "      <td>CaVO3</td>\n",
       "      <td>1.00</td>\n",
       "      <td>0.580</td>\n",
       "      <td>1.35</td>\n",
       "      <td>2</td>\n",
       "      <td>4</td>\n",
       "      <td>-2</td>\n",
       "      <td>1.00</td>\n",
       "      <td>1.63</td>\n",
       "      <td>3.44</td>\n",
       "      <td>5.326</td>\n",
       "      <td>5.352</td>\n",
       "      <td>7.547</td>\n",
       "    </tr>\n",
       "    <tr>\n",
       "      <th>7</th>\n",
       "      <td>CaTiO3</td>\n",
       "      <td>1.00</td>\n",
       "      <td>0.605</td>\n",
       "      <td>1.35</td>\n",
       "      <td>2</td>\n",
       "      <td>4</td>\n",
       "      <td>-2</td>\n",
       "      <td>1.00</td>\n",
       "      <td>1.54</td>\n",
       "      <td>3.44</td>\n",
       "      <td>5.381</td>\n",
       "      <td>5.443</td>\n",
       "      <td>7.645</td>\n",
       "    </tr>\n",
       "    <tr>\n",
       "      <th>8</th>\n",
       "      <td>CaRuO3</td>\n",
       "      <td>1.00</td>\n",
       "      <td>0.620</td>\n",
       "      <td>1.35</td>\n",
       "      <td>2</td>\n",
       "      <td>4</td>\n",
       "      <td>-2</td>\n",
       "      <td>1.00</td>\n",
       "      <td>2.20</td>\n",
       "      <td>3.44</td>\n",
       "      <td>5.360</td>\n",
       "      <td>5.530</td>\n",
       "      <td>7.670</td>\n",
       "    </tr>\n",
       "    <tr>\n",
       "      <th>9</th>\n",
       "      <td>CaMoO3</td>\n",
       "      <td>1.00</td>\n",
       "      <td>0.650</td>\n",
       "      <td>1.35</td>\n",
       "      <td>2</td>\n",
       "      <td>4</td>\n",
       "      <td>-2</td>\n",
       "      <td>1.00</td>\n",
       "      <td>2.16</td>\n",
       "      <td>3.44</td>\n",
       "      <td>5.450</td>\n",
       "      <td>5.580</td>\n",
       "      <td>7.800</td>\n",
       "    </tr>\n",
       "  </tbody>\n",
       "</table>\n",
       "</div>"
      ],
      "text/plain": [
       "   Solids    rA     rB    rX  vA  vB  vX    EA    EB    EX      a      b  \\\n",
       "0   NaUO3  1.02  0.760  1.35   1   5  -2  0.93  1.38  3.44  5.775  5.905   \n",
       "1  NaTaO3  1.02  0.640  1.35   1   5  -2  0.93  1.50  3.44  5.494  5.513   \n",
       "2  NaNbO3  1.02  0.640  1.35   1   5  -2  0.93  1.60  3.44  5.510  5.570   \n",
       "3  NaPaO3  1.02  0.780  1.35   1   5  -2  0.93  1.50  3.44  5.820  5.920   \n",
       "4  CaMnO3  1.00  0.530  1.35   2   4  -2  1.00  1.55  3.44  5.270  5.275   \n",
       "5  CaCrO3  1.00  0.550  1.35   2   4  -2  1.00  1.66  3.44  5.287  5.316   \n",
       "6   CaVO3  1.00  0.580  1.35   2   4  -2  1.00  1.63  3.44  5.326  5.352   \n",
       "7  CaTiO3  1.00  0.605  1.35   2   4  -2  1.00  1.54  3.44  5.381  5.443   \n",
       "8  CaRuO3  1.00  0.620  1.35   2   4  -2  1.00  2.20  3.44  5.360  5.530   \n",
       "9  CaMoO3  1.00  0.650  1.35   2   4  -2  1.00  2.16  3.44  5.450  5.580   \n",
       "\n",
       "       c  \n",
       "0  8.250  \n",
       "1  7.751  \n",
       "2  7.770  \n",
       "3  8.360  \n",
       "4  7.464  \n",
       "5  7.486  \n",
       "6  7.547  \n",
       "7  7.645  \n",
       "8  7.670  \n",
       "9  7.800  "
      ]
     },
     "execution_count": 3,
     "metadata": {},
     "output_type": "execute_result"
    }
   ],
   "source": [
    "dataset = pd.read_csv(\"orthorhombic_dataset.csv\")\n",
    "dataset.head(n=10)"
   ]
  },
  {
   "cell_type": "code",
   "execution_count": 4,
   "metadata": {},
   "outputs": [],
   "source": [
    "x = dataset.iloc[:,1:10].values\n",
    "y = dataset.iloc[:,10:].values"
   ]
  },
  {
   "cell_type": "code",
   "execution_count": 5,
   "metadata": {},
   "outputs": [],
   "source": [
    "#print(x)\n",
    "#print(y)"
   ]
  },
  {
   "cell_type": "code",
   "execution_count": 6,
   "metadata": {},
   "outputs": [],
   "source": [
    "x_train, x_test, y_train, y_test = train_test_split(x, y, test_size=0.2)"
   ]
  },
  {
   "cell_type": "code",
   "execution_count": 7,
   "metadata": {},
   "outputs": [],
   "source": [
    "grid_para={'C':[0.01, 0.1, 1, 5, 10, 50, 100, 150, 200], 'epsilon':np.arange(0.05, 1, 0.05), 'gamma':np.arange(0, 10, 0.25)}"
   ]
  },
  {
   "cell_type": "code",
   "execution_count": 60,
   "metadata": {},
   "outputs": [
    {
     "name": "stdout",
     "output_type": "stream",
     "text": [
      "No. of folds:  2\n",
      "Best parameter value:  {'C': 10, 'epsilon': 0.05, 'gamma': 0.25}\n",
      "best accuracy for a: 0.9120393406106223\n",
      "No. of folds:  3\n",
      "Best parameter value:  {'C': 50, 'epsilon': 0.05, 'gamma': 0.25}\n",
      "best accuracy for a: 0.9482348246064327\n",
      "No. of folds:  4\n",
      "Best parameter value:  {'C': 100, 'epsilon': 0.05, 'gamma': 0.5}\n",
      "best accuracy for a: 0.9511074849443988\n",
      "No. of folds:  5\n",
      "Best parameter value:  {'C': 10, 'epsilon': 0.05, 'gamma': 0.5}\n",
      "best accuracy for a: 0.9575543611860138\n",
      "No. of folds:  6\n",
      "Best parameter value:  {'C': 50, 'epsilon': 0.05, 'gamma': 0.25}\n",
      "best accuracy for a: 0.9007959574579893\n",
      "No. of folds:  7\n",
      "Best parameter value:  {'C': 10, 'epsilon': 0.05, 'gamma': 0.5}\n",
      "best accuracy for a: 0.9378784031209882\n",
      "No. of folds:  8\n",
      "Best parameter value:  {'C': 50, 'epsilon': 0.05, 'gamma': 0.25}\n",
      "best accuracy for a: 0.9000892245159899\n",
      "No. of folds:  9\n",
      "Best parameter value:  {'C': 50, 'epsilon': 0.05, 'gamma': 0.25}\n",
      "best accuracy for a: 0.9490378598686843\n"
     ]
    }
   ],
   "source": [
    "#########################################             for a           ##############################################\n",
    "\n",
    "#GridSearchCV\n",
    "a1 = np.zeros(8)\n",
    "for i in range(2, 10):\n",
    "    x_train, x_test, y_train, y_test = train_test_split(x, y, test_size=0.2)\n",
    "    gd_sr = GridSearchCV(SVR(kernel = 'rbf'), param_grid = grid_para, scoring='r2', n_jobs=-1, cv=i)\n",
    "    gd_sr.fit(x_train, y_train[:,0])\n",
    "    best_para1 = gd_sr.best_params_\n",
    "    best_result1 = gd_sr.best_score_\n",
    "    a1[i-2] = best_result1\n",
    "    print(\"No. of folds: \",i)\n",
    "    print(\"Best parameter value: \",best_para1)\n",
    "    print(\"best accuracy for a:\",best_result1)\n",
    "    "
   ]
  },
  {
   "cell_type": "code",
   "execution_count": 61,
   "metadata": {},
   "outputs": [
    {
     "data": {
      "image/png": "[encoded data removed]",
      "text/plain": [
       "<Figure size 432x288 with 1 Axes>"
      ]
     },
     "metadata": {
      "needs_background": "light"
     },
     "output_type": "display_data"
    }
   ],
   "source": [
    "#print(a1)\n",
    "plt.plot(np.arange(2,10,1), a1)\n",
    "plt.title(\"Cross Validation vs accuracy score for 'a'\")\n",
    "plt.xlabel(\"No. of folds\")\n",
    "plt.ylabel(\"Accuracy score\")\n",
    "plt.show()"
   ]
  },
  {
   "cell_type": "code",
   "execution_count": 62,
   "metadata": {},
   "outputs": [
    {
     "name": "stdout",
     "output_type": "stream",
     "text": [
      "No. of folds:  2\n",
      "Hyperparamter for b: {'C': 1, 'epsilon': 0.05, 'gamma': 9.75}\n",
      "best accuracy for b: 0.4536808443191839\n",
      "No. of folds:  3\n",
      "Hyperparamter for b: {'C': 50, 'epsilon': 0.05, 'gamma': 0.25}\n",
      "best accuracy for b: 0.7504792850012567\n",
      "No. of folds:  4\n",
      "Hyperparamter for b: {'C': 100, 'epsilon': 0.05, 'gamma': 0.25}\n",
      "best accuracy for b: 0.7764272735813558\n",
      "No. of folds:  5\n",
      "Hyperparamter for b: {'C': 150, 'epsilon': 0.05, 'gamma': 0.25}\n",
      "best accuracy for b: 0.7998977473490687\n",
      "No. of folds:  6\n",
      "Hyperparamter for b: {'C': 50, 'epsilon': 0.05, 'gamma': 0.5}\n",
      "best accuracy for b: 0.7926437830749404\n",
      "No. of folds:  7\n",
      "Hyperparamter for b: {'C': 100, 'epsilon': 0.05, 'gamma': 0.25}\n",
      "best accuracy for b: 0.7810356044378585\n",
      "No. of folds:  8\n",
      "Hyperparamter for b: {'C': 5, 'epsilon': 0.05, 'gamma': 0.5}\n",
      "best accuracy for b: 0.7504475447039491\n",
      "No. of folds:  9\n",
      "Hyperparamter for b: {'C': 50, 'epsilon': 0.05, 'gamma': 0.5}\n",
      "best accuracy for b: 0.781502639780784\n"
     ]
    }
   ],
   "source": [
    "a2 = np.zeros(8)\n",
    "for i in range(2, 10):\n",
    "    x_train, x_test, y_train, y_test = train_test_split(x, y, test_size=0.2)\n",
    "    gd_sr = GridSearchCV(SVR(kernel = 'rbf'), param_grid = grid_para, scoring='r2', n_jobs=-1, cv=i)\n",
    "    gd_sr.fit(x_train, y_train[:,1])\n",
    "    best_para2 = gd_sr.best_params_\n",
    "    best_result2 = gd_sr.best_score_\n",
    "    a2[i-2] = best_result2\n",
    "    print(\"No. of folds: \",i)\n",
    "    print(\"Hyperparamter for b:\",best_para2)\n",
    "    print(\"best accuracy for b:\",best_result2)\n",
    "    "
   ]
  },
  {
   "cell_type": "code",
   "execution_count": 63,
   "metadata": {},
   "outputs": [
    {
     "data": {
      "image/png": "[encoded data removed]",
      "text/plain": [
       "<Figure size 432x288 with 1 Axes>"
      ]
     },
     "metadata": {
      "needs_background": "light"
     },
     "output_type": "display_data"
    }
   ],
   "source": [
    "#print(a1)\n",
    "plt.plot(np.arange(2,10,1), a2)\n",
    "plt.title(\"Cross Validation vs accuracy score for 'b'\")\n",
    "plt.xlabel(\"No. of folds\")\n",
    "plt.ylabel(\"Accuracy score\")\n",
    "plt.show()"
   ]
  },
  {
   "cell_type": "code",
   "execution_count": 69,
   "metadata": {},
   "outputs": [
    {
     "name": "stdout",
     "output_type": "stream",
     "text": [
      "No. of folds:  2\n",
      "Hyperparamter for c: {'C': 150, 'epsilon': 0.05, 'gamma': 0.25}\n",
      "best accuracy for c: 0.8989904799370887\n",
      "No. of folds:  3\n",
      "Hyperparamter for c: {'C': 50, 'epsilon': 0.05, 'gamma': 0.75}\n",
      "best accuracy for c: 0.8955242310417776\n",
      "No. of folds:  4\n",
      "Hyperparamter for c: {'C': 150, 'epsilon': 0.05, 'gamma': 0.25}\n",
      "best accuracy for c: 0.9029332050100963\n",
      "No. of folds:  5\n",
      "Hyperparamter for c: {'C': 200, 'epsilon': 0.05, 'gamma': 0.25}\n",
      "best accuracy for c: 0.8947451376128722\n",
      "No. of folds:  6\n",
      "Hyperparamter for c: {'C': 200, 'epsilon': 0.05, 'gamma': 0.25}\n",
      "best accuracy for c: 0.877610640033645\n",
      "No. of folds:  7\n",
      "Hyperparamter for c: {'C': 200, 'epsilon': 0.05, 'gamma': 0.5}\n",
      "best accuracy for c: 0.8970326597819627\n",
      "No. of folds:  8\n",
      "Hyperparamter for c: {'C': 150, 'epsilon': 0.05, 'gamma': 6.75}\n",
      "best accuracy for c: 0.9241127877335542\n",
      "No. of folds:  9\n",
      "Hyperparamter for c: {'C': 100, 'epsilon': 0.05, 'gamma': 0.5}\n",
      "best accuracy for c: 0.8880993349783628\n"
     ]
    }
   ],
   "source": [
    "a3 = np.zeros(8)\n",
    "for i in range(2, 10):\n",
    "    x_train, x_test, y_train, y_test = train_test_split(x, y, test_size=0.2)\n",
    "    gd_sr = GridSearchCV(SVR(kernel = 'rbf'), param_grid = grid_para, scoring='r2', n_jobs=-1, cv=i)\n",
    "    gd_sr.fit(x_train, y_train[:,2])\n",
    "    best_para3 = gd_sr.best_params_\n",
    "    best_result3 = gd_sr.best_score_\n",
    "    a3[i-2] = best_result3\n",
    "    print(\"No. of folds: \",i)\n",
    "    print(\"Hyperparamter for c:\",best_para3)\n",
    "    print(\"best accuracy for c:\",best_result3)\n",
    "    "
   ]
  },
  {
   "cell_type": "code",
   "execution_count": 70,
   "metadata": {},
   "outputs": [
    {
     "data": {
      "image/png": "[encoded data removed]",
      "text/plain": [
       "<Figure size 432x288 with 1 Axes>"
      ]
     },
     "metadata": {
      "needs_background": "light"
     },
     "output_type": "display_data"
    }
   ],
   "source": [
    "#print(a1)\n",
    "plt.plot(np.arange(2,10,1), a3)\n",
    "plt.title(\"Cross Validation vs accuracy score for 'c'\")\n",
    "plt.xlabel(\"No. of folds\")\n",
    "plt.ylabel(\"Accuracy score\")\n",
    "plt.show()"
   ]
  },
  {
   "cell_type": "code",
   "execution_count": 21,
   "metadata": {},
   "outputs": [
    {
     "name": "stdout",
     "output_type": "stream",
     "text": [
      "Training data error : 0.4318478261623707\n"
     ]
    }
   ],
   "source": [
    "reg1 = SVR(kernel='rbf', C=10, epsilon=0.05, gamma=0.5)\n",
    "f1 = reg1.fit(x_train,y_train[:,0])\n",
    "ypred1 = f1.predict(x_test)\n",
    "#print(np.shape(f1.predict(x_train)))\n",
    "print(\"Training data error :\", np.mean(np.abs(y_train[:,0]-f1.predict(x_train))*100/y_train[:,0]))"
   ]
  },
  {
   "cell_type": "code",
   "execution_count": 22,
   "metadata": {},
   "outputs": [
    {
     "name": "stdout",
     "output_type": "stream",
     "text": [
      "Training data error : 0.7674208217896623\n"
     ]
    }
   ],
   "source": [
    "reg2 = SVR(kernel='rbf', C=150, epsilon=0.05, gamma=0.25)\n",
    "f2 = reg2.fit(x_train,y_train[:,1])\n",
    "ypred2 = f2.predict(x_test)\n",
    "print(\"Training data error :\", np.mean(np.abs(y_train[:,1]-f2.predict(x_train))*100/y_train[:,1]))"
   ]
  },
  {
   "cell_type": "code",
   "execution_count": 23,
   "metadata": {},
   "outputs": [
    {
     "name": "stdout",
     "output_type": "stream",
     "text": [
      "Training data error : 0.4549417913293777\n"
     ]
    }
   ],
   "source": [
    "reg3 = SVR(kernel='rbf', C=150, epsilon=0.05, gamma=6.75)\n",
    "f3 = reg3.fit(x_train,y_train[:,2])\n",
    "ypred3 = f3.predict(x_test)\n",
    "print(\"Training data error :\", np.mean(np.abs(y_train[:,2]-f3.predict(x_train))*100/y_train[:,2]))"
   ]
  },
  {
   "cell_type": "code",
   "execution_count": 24,
   "metadata": {},
   "outputs": [],
   "source": [
    "#ypred = np.hstack((np.hstack((ypred1.reshape(-1,1), ypred2.reshape(-1,1))), ypred3.reshape(-1,1)))\n",
    "ypred = np.hstack((ypred1.reshape(-1,1), ypred2.reshape(-1,1), ypred3.reshape(-1,1)))\n",
    "#print(ypred)"
   ]
  },
  {
   "cell_type": "code",
   "execution_count": 25,
   "metadata": {},
   "outputs": [
    {
     "name": "stdout",
     "output_type": "stream",
     "text": [
      "Testing data error in a: 0.005030418636713539\n",
      "Testing data error in b: 0.009481831574047913\n",
      "Testing data error in c: 0.007862393663726363\n"
     ]
    }
   ],
   "source": [
    "error = abs((y_test-ypred)/y_test)\n",
    "print(\"Testing data error in a:\", np.mean(error[:,0]))\n",
    "print(\"Testing data error in b:\", np.mean(error[:,1]))\n",
    "print(\"Testing data error in c:\", np.mean(error[:,2]))"
   ]
  },
  {
   "cell_type": "code",
   "execution_count": 26,
   "metadata": {},
   "outputs": [
    {
     "name": "stdout",
     "output_type": "stream",
     "text": [
      "R2 for test data for 'a' is  0.9704645216642738\n",
      "R2 for test data for 'b' is  0.805846885012556\n",
      "R2 for test data for 'c' is  0.9245861441501176\n"
     ]
    }
   ],
   "source": [
    "print(\"R2 for test data for 'a' is \",reg1.score(x_test, y_test[:,0]))\n",
    "print(\"R2 for test data for 'b' is \",reg2.score(x_test, y_test[:,1]))\n",
    "print(\"R2 for test data for 'c' is \",reg3.score(x_test, y_test[:,2]))"
   ]
  },
  {
   "cell_type": "code",
   "execution_count": 27,
   "metadata": {},
   "outputs": [
    {
     "name": "stdout",
     "output_type": "stream",
     "text": [
      "R2 for train data for 'a' is  0.9717909087265196\n",
      "R2 for train data for 'b' is  0.8487183968119407\n",
      "R2 for train data for 'c' is  0.9776850079341334\n"
     ]
    }
   ],
   "source": [
    "print(\"R2 for train data for 'a' is \",reg1.score(x_train, y_train[:,0]))\n",
    "print(\"R2 for train data for 'b' is \",reg2.score(x_train, y_train[:,1]))\n",
    "print(\"R2 for train data for 'c' is \",reg3.score(x_train, y_train[:,2]))"
   ]
  },
  {
   "cell_type": "code",
   "execution_count": 98,
   "metadata": {},
   "outputs": [
    {
     "data": {
      "text/plain": [
       "array([[0.938, 0.645, 1.35 , ..., 1.2  , 1.83 , 3.44 ],\n",
       "       [0.958, 0.62 , 1.35 , ..., 1.17 , 1.81 , 3.44 ],\n",
       "       [1.01 , 0.645, 1.35 , ..., 1.12 , 1.83 , 3.44 ],\n",
       "       ...,\n",
       "       [0.958, 0.645, 1.35 , ..., 1.17 , 1.55 , 3.44 ],\n",
       "       [1.032, 0.645, 1.35 , ..., 1.1  , 1.55 , 3.44 ],\n",
       "       [0.868, 0.645, 1.35 , ..., 1.1  , 1.55 , 3.44 ]])"
      ]
     },
     "execution_count": 98,
     "metadata": {},
     "output_type": "execute_result"
    }
   ],
   "source": [
    "x_train"
   ]
  },
  {
   "cell_type": "code",
   "execution_count": 28,
   "metadata": {},
   "outputs": [
    {
     "name": "stdout",
     "output_type": "stream",
     "text": [
      "Training data error in 'a': 0.004318478261623707\n",
      "Training data error in 'b': 0.0076742082178966236\n",
      "Training data error in 'c': 0.004549417913293777\n",
      "Testing data error in a: 0.005030418636713539\n",
      "Testing data error in b: 0.009481831574047913\n",
      "Testing data error in c: 0.007862393663726363\n"
     ]
    }
   ],
   "source": [
    "print(\"Training data error in 'a':\", np.mean(np.abs(y_train[:,0]-f1.predict(x_train))/y_train[:,0]))\n",
    "print(\"Training data error in 'b':\", np.mean(np.abs(y_train[:,1]-f2.predict(x_train))/y_train[:,1]))\n",
    "print(\"Training data error in 'c':\", np.mean(np.abs(y_train[:,2]-f3.predict(x_train))/y_train[:,2]))\n",
    "print(\"Testing data error in a:\", np.mean(error[:,0]))\n",
    "print(\"Testing data error in b:\", np.mean(error[:,1]))\n",
    "print(\"Testing data error in c:\", np.mean(error[:,2]))"
   ]
  },
  {
   "cell_type": "code",
   "execution_count": 29,
   "metadata": {},
   "outputs": [
    {
     "data": {
      "image/png": "[encoded data removed]",
      "text/plain": [
       "<Figure size 432x288 with 1 Axes>"
      ]
     },
     "metadata": {
      "needs_background": "light"
     },
     "output_type": "display_data"
    }
   ],
   "source": [
    "plt.scatter(x_test[:,0],y_test[:,0])\n",
    "plt.scatter(x_test[:,0],ypred[:,0])\n",
    "plt.title(\"Ionic radii vs lattice constant 'a'\")\n",
    "plt.xlabel(\"Ionic radii of A\")\n",
    "plt.ylabel(\"Lattice constant 'a'\")\n",
    "plt.show()"
   ]
  },
  {
   "cell_type": "code",
   "execution_count": 30,
   "metadata": {},
   "outputs": [
    {
     "data": {
      "image/png": "[encoded data removed]",
      "text/plain": [
       "<Figure size 432x288 with 1 Axes>"
      ]
     },
     "metadata": {
      "needs_background": "light"
     },
     "output_type": "display_data"
    }
   ],
   "source": [
    "plt.scatter(x_test[:,1],y_test[:,1])\n",
    "plt.scatter(x_test[:,1],ypred[:,1])\n",
    "plt.title(\"Ionic radii vs lattice constant 'b'\")\n",
    "plt.xlabel(\"Ionic radii of B\")\n",
    "plt.ylabel(\"Lattice constant 'b'\")\n",
    "plt.show()"
   ]
  },
  {
   "cell_type": "code",
   "execution_count": 31,
   "metadata": {},
   "outputs": [
    {
     "data": {
      "image/png": "[encoded data removed]",
      "text/plain": [
       "<Figure size 432x288 with 1 Axes>"
      ]
     },
     "metadata": {
      "needs_background": "light"
     },
     "output_type": "display_data"
    }
   ],
   "source": [
    "plt.scatter(x_test[:,0],y_test[:,1])\n",
    "plt.scatter(x_test[:,0],ypred[:,1])\n",
    "plt.title(\"Ionic radii vs lattice constant\")\n",
    "plt.xlabel(\"Ionic radii of A\")\n",
    "plt.ylabel(\"Lattice constant 'b'\")\n",
    "plt.show()"
   ]
  },
  {
   "cell_type": "code",
   "execution_count": 17,
   "metadata": {},
   "outputs": [],
   "source": [
    "np.savetxt('x_train.csv', x_train, delimiter=',', fmt='%6f')"
   ]
  },
  {
   "cell_type": "code",
   "execution_count": 18,
   "metadata": {},
   "outputs": [],
   "source": [
    "np.savetxt('x_test.csv', x_test, delimiter=',', fmt='%6f')"
   ]
  },
  {
   "cell_type": "code",
   "execution_count": 19,
   "metadata": {},
   "outputs": [],
   "source": [
    "np.savetxt('y_train.csv', y_train, delimiter=',', fmt='%6f')"
   ]
  },
  {
   "cell_type": "code",
   "execution_count": 20,
   "metadata": {},
   "outputs": [],
   "source": [
    "np.savetxt('y_test.csv', y_test, delimiter=',', fmt='%6f')"
   ]
  }
 ],
 "metadata": {
  "kernelspec": {
   "display_name": "Python 3",
   "language": "python",
   "name": "python3"
  },
  "language_info": {
   "codemirror_mode": {
    "name": "ipython",
    "version": 3
   },
   "file_extension": ".py",
   "mimetype": "text/x-python",
   "name": "python",
   "nbconvert_exporter": "python",
   "pygments_lexer": "ipython3",
   "version": "3.8.3"
  }
 },
 "nbformat": 4,
 "nbformat_minor": 4
}
